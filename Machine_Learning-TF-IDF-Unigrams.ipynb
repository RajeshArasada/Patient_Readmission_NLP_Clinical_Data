{
 "cells": [
  {
   "cell_type": "markdown",
   "metadata": {},
   "source": [
    "# Import necessary dependencies"
   ]
  },
  {
   "cell_type": "code",
   "execution_count": 1,
   "metadata": {},
   "outputs": [
    {
     "name": "stderr",
     "output_type": "stream",
     "text": [
      "/anaconda3/lib/python3.6/site-packages/lightgbm/__init__.py:46: UserWarning: Starting from version 2.2.1, the library file in distribution wheels for macOS is built by the Apple Clang (Xcode_9.4.1) compiler.\n",
      "This means that in case of installing LightGBM from PyPI via the ``pip install lightgbm`` command, you don't need to install the gcc compiler anymore.\n",
      "Instead of that, you need to install the OpenMP library, which is required for running LightGBM on the system with the Apple Clang compiler.\n",
      "You can install the OpenMP library by the following command: ``brew install libomp``.\n",
      "  \"You can install the OpenMP library by the following command: ``brew install libomp``.\", UserWarning)\n"
     ]
    }
   ],
   "source": [
    "import time\n",
    "\n",
    "# Data Wrangling\n",
    "import numpy as np\n",
    "import pandas as pd\n",
    "\n",
    "# Data Visualization\n",
    "import matplotlib.pyplot as plt\n",
    "%matplotlib inline\n",
    "import seaborn as sns\n",
    "import matplotlib.pyplot as plt\n",
    "\n",
    "# Data Saving\n",
    "import pickle\n",
    "\n",
    "# Feature Extraction and Feature Engineering\n",
    "from sklearn.feature_extraction.text import CountVectorizer\n",
    "from sklearn.feature_extraction.text import TfidfVectorizer\n",
    "\n",
    "# Machine Learning\n",
    "from sklearn.model_selection import RandomizedSearchCV\n",
    "from sklearn.ensemble import RandomForestClassifier\n",
    "from sklearn.ensemble import GradientBoostingClassifier\n",
    "from sklearn.metrics import accuracy_score, precision_score, recall_score, roc_auc_score, roc_curve, auc, classification_report, confusion_matrix\n",
    "\n",
    "# Model Interpretation\n",
    "import eli5\n",
    "from eli5.sklearn import PermutationImportance\n"
   ]
  },
  {
   "cell_type": "markdown",
   "metadata": {},
   "source": [
    "# Load Data for Machine Learning"
   ]
  },
  {
   "cell_type": "code",
   "execution_count": 2,
   "metadata": {},
   "outputs": [
    {
     "name": "stdout",
     "output_type": "stream",
     "text": [
      "                                          TEXT_CLEAN  Label\n",
      "0  admission date                discharge date  ...      0\n",
      "1  admission date                discharge date  ...      0\n",
      "2  admission date                discharge date  ...      0\n",
      "3  admission date                discharge date  ...      0\n",
      "4  admission date                discharge date  ...      0\n"
     ]
    }
   ],
   "source": [
    "# take a peek at the data\n",
    "df = pd.read_pickle('small_df.pickle')\n",
    "print(df.head())\n",
    "\n",
    "# shuffle the data and reset index\n",
    "data = df.sample(len(df))\n",
    "data = df.reset_index(drop=True)\n",
    "\n",
    "# build train, validation and test datasets \n",
    "data_valid_test = data.sample(frac=0.3)\n",
    "data_test = data_valid_test.sample(frac=0.5) \n",
    "data_valid = data_valid_test.drop(data_test.index) \n",
    "data_train = data.drop(data_valid_test.index)"
   ]
  },
  {
   "cell_type": "markdown",
   "metadata": {},
   "source": [
    "# Supervised Machine Learning Models\n",
    "**STEPS:**\n",
    "* Prepare Stop Words for the medical corpus\n",
    "* Extract TFIDF vectors for the discharge summaries\n",
    "* Train tree based classifiers"
   ]
  },
  {
   "cell_type": "markdown",
   "metadata": {},
   "source": [
    "## Prepare \"stop words\" for medical corpus\n",
    "**MEDICAL_STOP_WORDS** = **ENGLISH_STOPWORDS** + \n",
    "                         **MOST FREQUENT WORDS IN THE CORPUS** + \n",
    "                         **LEAST FREQUENT WORDS IN THE CORPUS**"
   ]
  },
  {
   "cell_type": "code",
   "execution_count": 3,
   "metadata": {
    "scrolled": true
   },
   "outputs": [
    {
     "name": "stdout",
     "output_type": "stream",
     "text": [
      "MOST FREQUENT WORDS\n",
      "--------------------\n",
      "['mg', 'tablet', 'po', 'patient', 'sig', 'blood', 'daily', 'hospital', 'discharge', 'day', 'history', 'left', 'pm', 'right', 'pain', 'admission', 'pt', 'date', 'ct', 'normal']\n",
      "\n",
      "\n",
      "LEAST FREQUENT WORDS\n",
      "--------------------\n",
      "['occais', 'occaional', 'octeotide', 'october', 'oldhealed', 'octogenerian', 'ohd', 'diagnosiscongestive', 'ogts', 'diagnosislast', 'ogng', 'ogett', 'diagnosispericardial', 'ofsteroids', 'ofsmoking', 'ofpneumonia', 'diagnositc', 'oflow', 'ofliothyronine', 'ofindinavir']\n"
     ]
    }
   ],
   "source": [
    "# English stopwords from Reuters\n",
    "stopwords = ['a', 'about', 'above', 'across', 'after', 'afterwards']\n",
    "stopwords += ['again', 'against', 'all', 'almost', 'alone', 'along']\n",
    "stopwords += ['already', 'also', 'although', 'always', 'am', 'among']\n",
    "stopwords += ['amongst', 'amoungst', 'amount', 'an', 'and', 'another']\n",
    "stopwords += ['any', 'anyhow', 'anyone', 'anything', 'anyway', 'anywhere']\n",
    "stopwords += ['are', 'around', 'as', 'at', 'back', 'be', 'became']\n",
    "stopwords += ['because', 'become', 'becomes', 'becoming', 'been']\n",
    "stopwords += ['before', 'beforehand', 'behind', 'being', 'below']\n",
    "stopwords += ['beside', 'besides', 'between', 'beyond', 'bill', 'both']\n",
    "stopwords += ['bottom', 'but', 'by', 'call', 'can', 'cannot', 'cant']\n",
    "stopwords += ['co', 'computer', 'con', 'could', 'couldnt', 'cry', 'de']\n",
    "stopwords += ['describe', 'detail', 'did', 'do', 'done', 'down', 'due']\n",
    "stopwords += ['during', 'each', 'eg', 'eight', 'either', 'eleven', 'else']\n",
    "stopwords += ['elsewhere', 'empty', 'enough', 'etc', 'even', 'ever']\n",
    "stopwords += ['every', 'everyone', 'everything', 'everywhere', 'except']\n",
    "stopwords += ['few', 'fifteen', 'fifty', 'fill', 'find', 'fire', 'first']\n",
    "stopwords += ['five', 'for', 'former', 'formerly', 'forty', 'found']\n",
    "stopwords += ['four', 'from', 'front', 'full', 'further', 'get', 'give']\n",
    "stopwords += ['go', 'had', 'has', 'hasnt', 'have', 'he', 'hence', 'her']\n",
    "stopwords += ['here', 'hereafter', 'hereby', 'herein', 'hereupon', 'hers']\n",
    "stopwords += ['herself', 'him', 'himself', 'his', 'how', 'however']\n",
    "stopwords += ['hundred', 'i', 'ie', 'if', 'in', 'inc', 'indeed']\n",
    "stopwords += ['interest', 'into', 'is', 'it', 'its', 'itself', 'keep']\n",
    "stopwords += ['last', 'latter', 'latterly', 'least', 'less', 'ltd', 'made']\n",
    "stopwords += ['many', 'may', 'me', 'meanwhile', 'might', 'mill', 'mine']\n",
    "stopwords += ['more', 'moreover', 'most', 'mostly', 'move', 'much']\n",
    "stopwords += ['must', 'my', 'myself', 'name', 'namely', 'neither', 'never']\n",
    "stopwords += ['nevertheless', 'next', 'nine', 'no', 'nobody', 'none']\n",
    "stopwords += ['noone', 'nor', 'not', 'nothing', 'now', 'nowhere', 'of']\n",
    "stopwords += ['off', 'often', 'on','once', 'one', 'only', 'onto', 'or']\n",
    "stopwords += ['other', 'others', 'otherwise', 'our', 'ours', 'ourselves']\n",
    "stopwords += ['out', 'over', 'own', 'part', 'per', 'perhaps', 'please']\n",
    "stopwords += ['put', 'rather', 're', 's', 'same', 'see', 'seem', 'seemed']\n",
    "stopwords += ['seeming', 'seems', 'serious', 'several', 'she', 'should']\n",
    "stopwords += ['show', 'side', 'since', 'sincere', 'six', 'sixty', 'so']\n",
    "stopwords += ['some', 'somehow', 'someone', 'something', 'sometime']\n",
    "stopwords += ['sometimes', 'somewhere', 'still', 'such', 'system', 'take']\n",
    "stopwords += ['ten', 'than', 'that', 'the', 'their', 'them', 'themselves']\n",
    "stopwords += ['then', 'thence', 'there', 'thereafter', 'thereby']\n",
    "stopwords += ['therefore', 'therein', 'thereupon', 'these', 'they']\n",
    "stopwords += ['thick', 'thin', 'third', 'this', 'those', 'though', 'three']\n",
    "stopwords += ['three', 'through', 'throughout', 'thru', 'thus', 'to']\n",
    "stopwords += ['together', 'too', 'toward', 'towards', 'twelve']\n",
    "stopwords += ['twenty', 'two', 'un', 'under', 'until', 'up', 'upon']\n",
    "stopwords += ['us', 'very', 'via', 'was', 'we', 'well', 'were', 'what']\n",
    "stopwords += ['whatever', 'when', 'whence', 'whenever', 'where']\n",
    "stopwords += ['whereafter', 'whereas', 'whereby', 'wherein', 'whereupon']\n",
    "stopwords += ['wherever', 'whether', 'which', 'while', 'whither', 'who']\n",
    "stopwords += ['whoever', 'whole', 'whom', 'whose', 'why', 'will', 'with']\n",
    "stopwords += ['within', 'without', 'would', 'yet', 'you', 'your']\n",
    "stopwords += ['yours', 'yourself', 'yourselves']\n",
    "\n",
    "# Prepare 100_most_frequent and least_frequent non-stopwords tokens in the train data \n",
    "bow_vectorizer = CountVectorizer(stop_words='english')\n",
    "bow_matrix = bow_vectorizer.fit_transform(data_train['TEXT_CLEAN'])\n",
    "\n",
    "# Make a dataframe\n",
    "term_freq = bow_matrix.sum(axis=0)\n",
    "bow_df = pd.DataFrame(\n",
    "    term_freq, columns=bow_vectorizer.get_feature_names()).transpose()\n",
    "bow_df = bow_df.reset_index(drop=False)\n",
    "bow_df.columns=['term', 'frequency']\n",
    "bow_df.sort_values(by='frequency', ascending=False, inplace=True)\n",
    "\n",
    "# Find the most_frequent and least_frequent words\n",
    "hundred_most_freq_words = bow_df['term'].tolist()[:100]\n",
    "hundred_least_freq_words = bow_df['term'].tolist()[-100:]\n",
    "\n",
    "print(\"MOST FREQUENT WORDS\")\n",
    "print('-'*20)\n",
    "print(hundred_most_freq_words[:20])\n",
    "print('\\n')\n",
    "print(\"LEAST FREQUENT WORDS\")\n",
    "print('-'*20)\n",
    "print(hundred_least_freq_words[:20])\n",
    "\n",
    "# Join all three lists to make a medical_corpus_stopwords\n",
    "med_corpus_stopwords = set(stopwords + hundred_least_freq_words + hundred_most_freq_words)"
   ]
  },
  {
   "cell_type": "markdown",
   "metadata": {},
   "source": [
    "## Build TF-IDF features"
   ]
  },
  {
   "cell_type": "code",
   "execution_count": 4,
   "metadata": {},
   "outputs": [],
   "source": [
    "tfidf_uni = TfidfVectorizer(token_pattern=r'\\b\\w+\\b', stop_words=med_corpus_stopwords, min_df=2, max_features=5000)"
   ]
  },
  {
   "cell_type": "code",
   "execution_count": 5,
   "metadata": {},
   "outputs": [],
   "source": [
    "train_data_matrix = tfidf_uni.fit_transform(data_train ['TEXT_CLEAN'])\n",
    "valid_data_matrix = tfidf_uni.transform(data_valid ['TEXT_CLEAN'])\n",
    "test_data_matrix = tfidf_uni.transform(data_test ['TEXT_CLEAN'])                                   "
   ]
  },
  {
   "cell_type": "markdown",
   "metadata": {},
   "source": [
    "## Extract Labels"
   ]
  },
  {
   "cell_type": "code",
   "execution_count": 6,
   "metadata": {},
   "outputs": [],
   "source": [
    "y_train = data_train['Label']\n",
    "y_valid = data_valid['Label']\n",
    "y_test = data_test['Label']"
   ]
  },
  {
   "cell_type": "markdown",
   "metadata": {},
   "source": [
    "# Unigrams"
   ]
  },
  {
   "cell_type": "markdown",
   "metadata": {},
   "source": [
    "## Random Forest"
   ]
  },
  {
   "cell_type": "code",
   "execution_count": 7,
   "metadata": {},
   "outputs": [
    {
     "name": "stderr",
     "output_type": "stream",
     "text": [
      "/anaconda3/lib/python3.6/site-packages/sklearn/ensemble/forest.py:246: FutureWarning: The default value of n_estimators will change from 10 in version 0.20 to 100 in 0.22.\n",
      "  \"10 in version 0.20 to 100 in 0.22.\", FutureWarning)\n"
     ]
    }
   ],
   "source": [
    "# Model_01; Random Forest Base Model with unigrams tfidf\n",
    "\n",
    "# Instantiate and fit a model to the training data\n",
    "model_01 = RandomForestClassifier()\n",
    "model_01.fit(train_data_matrix, y_train)\n",
    "\n",
    "# Save and load data\n",
    "filename = 'rf_base_model_MF.sav'\n",
    "pickle.dump(model_01, open(filename, 'wb'))\n",
    "model_01 = pickle.load(open(filename, 'rb'))\n",
    "\n",
    "# Make predictions\n",
    "trn_preds_01 = model_01.predict(train_data_matrix)\n",
    "valid_preds_01 =model_01.predict(valid_data_matrix)"
   ]
  },
  {
   "cell_type": "code",
   "execution_count": 8,
   "metadata": {},
   "outputs": [
    {
     "name": "stdout",
     "output_type": "stream",
     "text": [
      "RF BASE MODEL PPERFORMANCE ON TRAINING DATA\n",
      "-------------------------------------------------------\n",
      "Accuracy is 0.98\n",
      "Precision is 0.99\n",
      "Recall is 0.98\n",
      "AUC is 0.98\n",
      "\n",
      "\n",
      "RF BASE MODEL PPERFORMANCE ON VALIDATION DATA\n",
      "-------------------------------------------------------\n",
      "Accuracy is 0.59\n",
      "Precision is 0.62\n",
      "Recall is 0.49\n",
      "AUC is 0.59\n"
     ]
    }
   ],
   "source": [
    "print('RF BASE MODEL PPERFORMANCE ON TRAINING DATA')\n",
    "print('-'*55)\n",
    "print(\"Accuracy is {0:.2f}\".format(accuracy_score(y_train, trn_preds_01)))\n",
    "print(\"Precision is {0:.2f}\".format(precision_score(y_train, trn_preds_01)))\n",
    "print(\"Recall is {0:.2f}\".format(recall_score(y_train, trn_preds_01)))\n",
    "print(\"AUC is {0:.2f}\".format(roc_auc_score(y_train, trn_preds_01)))\n",
    "print('\\n')\n",
    "print('RF BASE MODEL PPERFORMANCE ON VALIDATION DATA')\n",
    "print('-'*55)\n",
    "print(\"Accuracy is {0:.2f}\".format(accuracy_score(y_valid, valid_preds_01)))\n",
    "print(\"Precision is {0:.2f}\".format(precision_score(y_valid, valid_preds_01)))\n",
    "print(\"Recall is {0:.2f}\".format(recall_score(y_valid, valid_preds_01)))\n",
    "print(\"AUC is {0:.2f}\".format(roc_auc_score(y_valid, valid_preds_01)))\n"
   ]
  },
  {
   "cell_type": "markdown",
   "metadata": {},
   "source": [
    "**Hyper Parameter Tuning**"
   ]
  },
  {
   "cell_type": "code",
   "execution_count": 9,
   "metadata": {
    "scrolled": true
   },
   "outputs": [
    {
     "name": "stdout",
     "output_type": "stream",
     "text": [
      "Fitting 3 folds for each of 100 candidates, totalling 300 fits\n"
     ]
    },
    {
     "name": "stderr",
     "output_type": "stream",
     "text": [
      "[Parallel(n_jobs=-1)]: Using backend LokyBackend with 8 concurrent workers.\n",
      "[Parallel(n_jobs=-1)]: Done  34 tasks      | elapsed:  1.1min\n",
      "[Parallel(n_jobs=-1)]: Done 184 tasks      | elapsed:  5.3min\n",
      "[Parallel(n_jobs=-1)]: Done 300 out of 300 | elapsed:  9.0min finished\n"
     ]
    },
    {
     "data": {
      "text/plain": [
       "RandomForestClassifier(bootstrap='True', class_weight=None, criterion='gini',\n",
       "            max_depth=178, max_features='log2', max_leaf_nodes=None,\n",
       "            min_impurity_decrease=0.0, min_impurity_split=None,\n",
       "            min_samples_leaf=4, min_samples_split=25,\n",
       "            min_weight_fraction_leaf=0.0, n_estimators=1000, n_jobs=None,\n",
       "            oob_score=False, random_state=None, verbose=0,\n",
       "            warm_start=False)"
      ]
     },
     "execution_count": 9,
     "metadata": {},
     "output_type": "execute_result"
    }
   ],
   "source": [
    "# Create the random grid of hyperparameters\n",
    "random_grid = {'n_estimators': [int(x) for x in np.linspace(start=100, stop=1000, num=10)],\n",
    "               'max_features': ['sqrt', 'log2'],\n",
    "               'max_depth': [int(x) for x in np.linspace(50, 400, num=20)],\n",
    "               'min_samples_split': [2, 5, 10, 15, 20, 25, 30],\n",
    "               'min_samples_leaf': [2, 4, 6, 8, 10, 12, 14, 16],\n",
    "               'bootstrap' : ['True', 'False']}\n",
    "\n",
    "\n",
    "# Instantiate a random search CV model\n",
    "model_02 = RandomizedSearchCV(estimator=model_01, param_distributions=random_grid,\n",
    "                                 n_iter=100, cv=3, verbose=True, random_state=42, n_jobs=-1)\n",
    "\n",
    "# Fit a model to the training data\n",
    "model_02.fit(train_data_matrix, y_train)\n",
    "\n",
    "# Obtain the hyperparameters for the best model\n",
    "best_random_02 = model_02.best_estimator_\n",
    "best_random_02\n"
   ]
  },
  {
   "cell_type": "markdown",
   "metadata": {},
   "source": [
    "**Run model with the best parameters**"
   ]
  },
  {
   "cell_type": "code",
   "execution_count": 10,
   "metadata": {},
   "outputs": [],
   "source": [
    "model_02_best = RandomForestClassifier(bootstrap='False', class_weight=None, criterion='gini',\n",
    "                                       max_depth=68, max_features='log2', max_leaf_nodes=None,\n",
    "                                       min_impurity_decrease=0.0, min_impurity_split=None,\n",
    "                                       min_samples_leaf=8, min_samples_split=5,\n",
    "                                       min_weight_fraction_leaf=0.0, n_estimators=1000, n_jobs=None,\n",
    "                                       oob_score=False, random_state=None, verbose=0,\n",
    "                                       warm_start=False)"
   ]
  },
  {
   "cell_type": "code",
   "execution_count": 11,
   "metadata": {},
   "outputs": [
    {
     "data": {
      "text/plain": [
       "RandomForestClassifier(bootstrap='False', class_weight=None, criterion='gini',\n",
       "            max_depth=68, max_features='log2', max_leaf_nodes=None,\n",
       "            min_impurity_decrease=0.0, min_impurity_split=None,\n",
       "            min_samples_leaf=8, min_samples_split=5,\n",
       "            min_weight_fraction_leaf=0.0, n_estimators=1000, n_jobs=None,\n",
       "            oob_score=False, random_state=None, verbose=0,\n",
       "            warm_start=False)"
      ]
     },
     "execution_count": 11,
     "metadata": {},
     "output_type": "execute_result"
    }
   ],
   "source": [
    "model_02_best.fit(train_data_matrix, y_train)"
   ]
  },
  {
   "cell_type": "code",
   "execution_count": 12,
   "metadata": {},
   "outputs": [],
   "source": [
    "# Save and load the model\n",
    "filename = 'rf_best_model_MF.sav'\n",
    "pickle.dump(model_02_best, open(filename, 'wb'))\n",
    "model_02_best = pickle.load(open(filename, 'rb'))\n",
    "\n",
    "# Predict the labels of the train and validation data\n",
    "trn_preds_02 = model_02_best.predict(train_data_matrix)\n",
    "valid_preds_02 = model_02_best.predict(valid_data_matrix)"
   ]
  },
  {
   "cell_type": "markdown",
   "metadata": {},
   "source": [
    "**Compute Metrics**"
   ]
  },
  {
   "cell_type": "code",
   "execution_count": 13,
   "metadata": {
    "scrolled": true
   },
   "outputs": [
    {
     "name": "stdout",
     "output_type": "stream",
     "text": [
      "RF BEST RANDOM MODEL PPERFORMANCE ON TRAINING DATA\n",
      "-----------------------------------------------------------------\n",
      "Accuracy is 0.91\n",
      "Precision is 0.91\n",
      "Recall is 0.91\n",
      "AUC is 0.91\n",
      "\n",
      "\n",
      "RF BEST RANDOM MODEL PPERFORMANCE ON VALIDATION DATA\n",
      "-----------------------------------------------------------------\n",
      "Accuracy is 0.64\n",
      "Precision is 0.63\n",
      "Recall is 0.67\n",
      "AUC is 0.64\n"
     ]
    }
   ],
   "source": [
    "print('RF BEST RANDOM MODEL PPERFORMANCE ON TRAINING DATA')\n",
    "print('-'*65)\n",
    "print(\"Accuracy is {0:.2f}\".format(accuracy_score(y_train, trn_preds_02)))\n",
    "print(\"Precision is {0:.2f}\".format(precision_score(y_train, trn_preds_02)))\n",
    "print(\"Recall is {0:.2f}\".format(recall_score(y_train, trn_preds_02)))\n",
    "print(\"AUC is {0:.2f}\".format(roc_auc_score(y_train, trn_preds_02)))\n",
    "print('\\n')\n",
    "print('RF BEST RANDOM MODEL PPERFORMANCE ON VALIDATION DATA')\n",
    "print('-'*65)\n",
    "print(\"Accuracy is {0:.2f}\".format(accuracy_score(y_valid, valid_preds_02)))\n",
    "print(\"Precision is {0:.2f}\".format(precision_score(y_valid, valid_preds_02)))\n",
    "print(\"Recall is {0:.2f}\".format(recall_score(y_valid, valid_preds_02)))\n",
    "print(\"AUC is {0:.2f}\".format(roc_auc_score(y_valid, valid_preds_02)))\n"
   ]
  },
  {
   "cell_type": "markdown",
   "metadata": {},
   "source": [
    "## Gradient Boosting Machines"
   ]
  },
  {
   "cell_type": "markdown",
   "metadata": {},
   "source": [
    "**Gradient Boosting Machine Base Model**"
   ]
  },
  {
   "cell_type": "code",
   "execution_count": 14,
   "metadata": {},
   "outputs": [],
   "source": [
    "# Instantiate a classifier\n",
    "model_03 = GradientBoostingClassifier()\n",
    "\n",
    "# Fit a model\n",
    "model_03.fit(train_data_matrix, y_train)\n",
    "\n",
    "# Save and load the model\n",
    "filename = 'gbm_base_model_MF.sav'\n",
    "pickle.dump(model_03, open(filename, 'wb'))\n",
    "model_03 = pickle.load(open(filename, 'rb'))\n",
    "\n",
    "\n",
    "# Predict the labels of the train and valid data\n",
    "trn_preds_03 = model_03.predict(train_data_matrix)\n",
    "valid_preds_03 = model_03.predict(valid_data_matrix)"
   ]
  },
  {
   "cell_type": "code",
   "execution_count": 15,
   "metadata": {},
   "outputs": [
    {
     "data": {
      "text/plain": [
       "GradientBoostingClassifier(criterion='friedman_mse', init=None,\n",
       "              learning_rate=0.1, loss='deviance', max_depth=3,\n",
       "              max_features=None, max_leaf_nodes=None,\n",
       "              min_impurity_decrease=0.0, min_impurity_split=None,\n",
       "              min_samples_leaf=1, min_samples_split=2,\n",
       "              min_weight_fraction_leaf=0.0, n_estimators=100,\n",
       "              n_iter_no_change=None, presort='auto', random_state=None,\n",
       "              subsample=1.0, tol=0.0001, validation_fraction=0.1,\n",
       "              verbose=0, warm_start=False)"
      ]
     },
     "execution_count": 15,
     "metadata": {},
     "output_type": "execute_result"
    }
   ],
   "source": [
    "model_03"
   ]
  },
  {
   "cell_type": "markdown",
   "metadata": {},
   "source": [
    "**Gradient Boosting Machine Base Model Metrics**"
   ]
  },
  {
   "cell_type": "code",
   "execution_count": 16,
   "metadata": {},
   "outputs": [
    {
     "name": "stdout",
     "output_type": "stream",
     "text": [
      "GBM BASE MODEL PPERFORMANCE ON TRAINING DATA\n",
      "-----------------------------------------------------------------\n",
      "Accuracy is 0.88\n",
      "Precision is 0.88\n",
      "Recall is 0.88\n",
      "AUC is 0.88\n",
      "\n",
      "\n",
      "GBM BASE MODEL PPERFORMANCE ON VALIDATION DATA\n",
      "-----------------------------------------------------------------\n",
      "Accuracy is 0.61\n",
      "Precision is 0.62\n",
      "Recall is 0.59\n",
      "AUC is 0.61\n"
     ]
    }
   ],
   "source": [
    "print('GBM BASE MODEL PPERFORMANCE ON TRAINING DATA')\n",
    "print('-'*65)\n",
    "print(\"Accuracy is {0:.2f}\".format(accuracy_score(y_train, trn_preds_03)))\n",
    "print(\"Precision is {0:.2f}\".format(precision_score(y_train, trn_preds_03)))\n",
    "print(\"Recall is {0:.2f}\".format(recall_score(y_train, trn_preds_03)))\n",
    "print(\"AUC is {0:.2f}\".format(roc_auc_score(y_train, trn_preds_03)))\n",
    "print('\\n')\n",
    "print('GBM BASE MODEL PPERFORMANCE ON VALIDATION DATA')\n",
    "print('-'*65)\n",
    "print(\"Accuracy is {0:.2f}\".format(accuracy_score(y_valid, valid_preds_03)))\n",
    "print(\"Precision is {0:.2f}\".format(precision_score(y_valid, valid_preds_03)))\n",
    "print(\"Recall is {0:.2f}\".format(recall_score(y_valid, valid_preds_03)))\n",
    "print(\"AUC is {0:.2f}\".format(roc_auc_score(y_valid, valid_preds_03)))\n"
   ]
  },
  {
   "cell_type": "markdown",
   "metadata": {},
   "source": [
    "**Random Search Hyperparameter Tuning for Gradient Boosting Machine**"
   ]
  },
  {
   "cell_type": "code",
   "execution_count": 17,
   "metadata": {},
   "outputs": [
    {
     "name": "stdout",
     "output_type": "stream",
     "text": [
      "Fitting 3 folds for each of 100 candidates, totalling 300 fits\n"
     ]
    },
    {
     "name": "stderr",
     "output_type": "stream",
     "text": [
      "[Parallel(n_jobs=-1)]: Using backend LokyBackend with 8 concurrent workers.\n",
      "[Parallel(n_jobs=-1)]: Done  34 tasks      | elapsed:   30.8s\n",
      "[Parallel(n_jobs=-1)]: Done 184 tasks      | elapsed:  2.5min\n",
      "[Parallel(n_jobs=-1)]: Done 300 out of 300 | elapsed:  4.2min finished\n"
     ]
    }
   ],
   "source": [
    "params_GB_RS = {\"max_depth\": np.linspace(1, 50, 5, endpoint=True),\n",
    "                \"max_features\": ['auto', 'sqrt', 'log2'],\n",
    "                \"min_samples_split\": np.linspace(.1, 1, 10, endpoint=True),\n",
    "                \"min_samples_leaf\": [.1, .2,.3, .4, .5],\n",
    "                \"learning_rate\": [0.001, 0.01, 0.1, 0.2, 1, 2]}\n",
    "\n",
    "\n",
    "model_04 = RandomizedSearchCV(model_03, param_distributions=params_GB_RS,\n",
    "                                 n_iter=100, cv=3, verbose=True, random_state=42, n_jobs=-1)\n",
    "\n",
    "model_04.fit(train_data_matrix, y_train)\n",
    "\n",
    "best_GBM = model_04.best_params_\n"
   ]
  },
  {
   "cell_type": "code",
   "execution_count": 18,
   "metadata": {},
   "outputs": [],
   "source": [
    "model_06 = GradientBoostingClassifier(learning_rate=0.01,\n",
    "                                      max_depth=17.333333333333336,\n",
    "                                      max_features='log2',\n",
    "                                      min_samples_leaf=0.24,\n",
    "                                      min_samples_split=0.6,\n",
    "                                      n_estimators=1000)\n",
    "\n",
    "\n",
    "model_06.fit(train_data_matrix, y_train)\n",
    "\n",
    "filename = 'gbm_best_model.sav'\n",
    "pickle.dump(model_06, open(filename, 'wb'))\n",
    "model_06 = pickle.load(open(filename, 'rb'))\n",
    "\n",
    "trn_preds_06 = model_06.predict(train_data_matrix)\n",
    "valid_preds_06 = model_06.predict(valid_data_matrix)"
   ]
  },
  {
   "cell_type": "markdown",
   "metadata": {},
   "source": [
    "**Compute Metrics for the best hyperparameters**"
   ]
  },
  {
   "cell_type": "code",
   "execution_count": 19,
   "metadata": {},
   "outputs": [
    {
     "name": "stdout",
     "output_type": "stream",
     "text": [
      "GBM BEST MODEL PPERFORMANCE ON TRAINING DATA\n",
      "-----------------------------------------------------------------\n",
      "Accuracy is 0.62\n",
      "Precision is 0.62\n",
      "Recall is 0.65\n",
      "AUC is 0.62\n",
      "\n",
      "\n",
      "GBM BEST MODEL PPERFORMANCE ON VALIDATION DATA\n",
      "-----------------------------------------------------------------\n",
      "Accuracy is 0.57\n",
      "Precision is 0.56\n",
      "Recall is 0.61\n",
      "AUC is 0.57\n"
     ]
    }
   ],
   "source": [
    "print('GBM BEST MODEL PPERFORMANCE ON TRAINING DATA')\n",
    "print('-'*65)\n",
    "print(\"Accuracy is {0:.2f}\".format(accuracy_score(y_train, trn_preds_06)))\n",
    "print(\"Precision is {0:.2f}\".format(precision_score(y_train, trn_preds_06)))\n",
    "print(\"Recall is {0:.2f}\".format(recall_score(y_train, trn_preds_06)))\n",
    "print(\"AUC is {0:.2f}\".format(roc_auc_score(y_train, trn_preds_06)))\n",
    "print('\\n')\n",
    "print('GBM BEST MODEL PPERFORMANCE ON VALIDATION DATA')\n",
    "print('-'*65)\n",
    "print(\"Accuracy is {0:.2f}\".format(accuracy_score(y_valid, valid_preds_06)))\n",
    "print(\"Precision is {0:.2f}\".format(precision_score(y_valid, valid_preds_06)))\n",
    "print(\"Recall is {0:.2f}\".format(recall_score(y_valid, valid_preds_06)))\n",
    "print(\"AUC is {0:.2f}\".format(roc_auc_score(y_valid, valid_preds_06)))\n"
   ]
  },
  {
   "cell_type": "code",
   "execution_count": 20,
   "metadata": {},
   "outputs": [],
   "source": [
    "filename = 'gbm_best_model.sav'\n",
    "pickle.dump(model_06, open(filename, 'wb'))\n",
    "\n",
    "model_06 = pickle.load(open(filename, 'rb'))\n",
    "valid_preds_06 = model_06.predict(valid_data_matrix)"
   ]
  },
  {
   "cell_type": "code",
   "execution_count": 21,
   "metadata": {},
   "outputs": [],
   "source": [
    "valid_data = pd.DataFrame(valid_data_matrix.toarray(), columns=tfidf_uni.get_feature_names())"
   ]
  },
  {
   "cell_type": "code",
   "execution_count": 22,
   "metadata": {
    "scrolled": true
   },
   "outputs": [],
   "source": [
    "perm = PermutationImportance(model_06, random_state=1).fit(valid_data, y_valid)"
   ]
  },
  {
   "cell_type": "code",
   "execution_count": 23,
   "metadata": {
    "scrolled": true
   },
   "outputs": [
    {
     "data": {
      "text/html": [
       "\n",
       "    <style>\n",
       "    table.eli5-weights tr:hover {\n",
       "        filter: brightness(85%);\n",
       "    }\n",
       "</style>\n",
       "\n",
       "\n",
       "\n",
       "    \n",
       "\n",
       "    \n",
       "\n",
       "    \n",
       "\n",
       "    \n",
       "\n",
       "    \n",
       "\n",
       "    \n",
       "\n",
       "\n",
       "    \n",
       "\n",
       "    \n",
       "\n",
       "    \n",
       "\n",
       "    \n",
       "\n",
       "    \n",
       "\n",
       "    \n",
       "\n",
       "\n",
       "    \n",
       "\n",
       "    \n",
       "\n",
       "    \n",
       "\n",
       "    \n",
       "\n",
       "    \n",
       "        <table class=\"eli5-weights eli5-feature-importances\" style=\"border-collapse: collapse; border: none; margin-top: 0em; table-layout: auto;\">\n",
       "    <thead>\n",
       "    <tr style=\"border: none;\">\n",
       "        <th style=\"padding: 0 1em 0 0.5em; text-align: right; border: none;\">Weight</th>\n",
       "        <th style=\"padding: 0 0.5em 0 0.5em; text-align: left; border: none;\">Feature</th>\n",
       "    </tr>\n",
       "    </thead>\n",
       "    <tbody>\n",
       "    \n",
       "        <tr style=\"background-color: hsl(120, 100.00%, 80.00%); border: none;\">\n",
       "            <td style=\"padding: 0 1em 0 0.5em; text-align: right; border: none;\">\n",
       "                0.0075\n",
       "                \n",
       "                    &plusmn; 0.0027\n",
       "                \n",
       "            </td>\n",
       "            <td style=\"padding: 0 0.5em 0 0.5em; text-align: left; border: none;\">\n",
       "                extremities\n",
       "            </td>\n",
       "        </tr>\n",
       "    \n",
       "        <tr style=\"background-color: hsl(120, 100.00%, 80.56%); border: none;\">\n",
       "            <td style=\"padding: 0 1em 0 0.5em; text-align: right; border: none;\">\n",
       "                0.0072\n",
       "                \n",
       "                    &plusmn; 0.0051\n",
       "                \n",
       "            </td>\n",
       "            <td style=\"padding: 0 0.5em 0 0.5em; text-align: left; border: none;\">\n",
       "                multiple\n",
       "            </td>\n",
       "        </tr>\n",
       "    \n",
       "        <tr style=\"background-color: hsl(120, 100.00%, 81.13%); border: none;\">\n",
       "            <td style=\"padding: 0 1em 0 0.5em; text-align: right; border: none;\">\n",
       "                0.0069\n",
       "                \n",
       "                    &plusmn; 0.0041\n",
       "                \n",
       "            </td>\n",
       "            <td style=\"padding: 0 0.5em 0 0.5em; text-align: left; border: none;\">\n",
       "                head\n",
       "            </td>\n",
       "        </tr>\n",
       "    \n",
       "        <tr style=\"background-color: hsl(120, 100.00%, 82.30%); border: none;\">\n",
       "            <td style=\"padding: 0 1em 0 0.5em; text-align: right; border: none;\">\n",
       "                0.0063\n",
       "                \n",
       "                    &plusmn; 0.0064\n",
       "                \n",
       "            </td>\n",
       "            <td style=\"padding: 0 0.5em 0 0.5em; text-align: left; border: none;\">\n",
       "                results\n",
       "            </td>\n",
       "        </tr>\n",
       "    \n",
       "        <tr style=\"background-color: hsl(120, 100.00%, 83.50%); border: none;\">\n",
       "            <td style=\"padding: 0 1em 0 0.5em; text-align: right; border: none;\">\n",
       "                0.0057\n",
       "                \n",
       "                    &plusmn; 0.0035\n",
       "                \n",
       "            </td>\n",
       "            <td style=\"padding: 0 0.5em 0 0.5em; text-align: left; border: none;\">\n",
       "                nontender\n",
       "            </td>\n",
       "        </tr>\n",
       "    \n",
       "        <tr style=\"background-color: hsl(120, 100.00%, 83.50%); border: none;\">\n",
       "            <td style=\"padding: 0 1em 0 0.5em; text-align: right; border: none;\">\n",
       "                0.0057\n",
       "                \n",
       "                    &plusmn; 0.0035\n",
       "                \n",
       "            </td>\n",
       "            <td style=\"padding: 0 0.5em 0 0.5em; text-align: left; border: none;\">\n",
       "                major\n",
       "            </td>\n",
       "        </tr>\n",
       "    \n",
       "        <tr style=\"background-color: hsl(120, 100.00%, 84.73%); border: none;\">\n",
       "            <td style=\"padding: 0 1em 0 0.5em; text-align: right; border: none;\">\n",
       "                0.0051\n",
       "                \n",
       "                    &plusmn; 0.0024\n",
       "                \n",
       "            </td>\n",
       "            <td style=\"padding: 0 0.5em 0 0.5em; text-align: left; border: none;\">\n",
       "                invasive\n",
       "            </td>\n",
       "        </tr>\n",
       "    \n",
       "        <tr style=\"background-color: hsl(120, 100.00%, 84.73%); border: none;\">\n",
       "            <td style=\"padding: 0 1em 0 0.5em; text-align: right; border: none;\">\n",
       "                0.0051\n",
       "                \n",
       "                    &plusmn; 0.0041\n",
       "                \n",
       "            </td>\n",
       "            <td style=\"padding: 0 0.5em 0 0.5em; text-align: left; border: none;\">\n",
       "                injection\n",
       "            </td>\n",
       "        </tr>\n",
       "    \n",
       "        <tr style=\"background-color: hsl(120, 100.00%, 84.73%); border: none;\">\n",
       "            <td style=\"padding: 0 1em 0 0.5em; text-align: right; border: none;\">\n",
       "                0.0051\n",
       "                \n",
       "                    &plusmn; 0.0030\n",
       "                \n",
       "            </td>\n",
       "            <td style=\"padding: 0 0.5em 0 0.5em; text-align: left; border: none;\">\n",
       "                good\n",
       "            </td>\n",
       "        </tr>\n",
       "    \n",
       "        <tr style=\"background-color: hsl(120, 100.00%, 84.73%); border: none;\">\n",
       "            <td style=\"padding: 0 1em 0 0.5em; text-align: right; border: none;\">\n",
       "                0.0051\n",
       "                \n",
       "                    &plusmn; 0.0030\n",
       "                \n",
       "            </td>\n",
       "            <td style=\"padding: 0 0.5em 0 0.5em; text-align: left; border: none;\">\n",
       "                currently\n",
       "            </td>\n",
       "        </tr>\n",
       "    \n",
       "        <tr style=\"background-color: hsl(120, 100.00%, 84.73%); border: none;\">\n",
       "            <td style=\"padding: 0 1em 0 0.5em; text-align: right; border: none;\">\n",
       "                0.0051\n",
       "                \n",
       "                    &plusmn; 0.0055\n",
       "                \n",
       "            </td>\n",
       "            <td style=\"padding: 0 0.5em 0 0.5em; text-align: left; border: none;\">\n",
       "                brief\n",
       "            </td>\n",
       "        </tr>\n",
       "    \n",
       "        <tr style=\"background-color: hsl(120, 100.00%, 85.37%); border: none;\">\n",
       "            <td style=\"padding: 0 1em 0 0.5em; text-align: right; border: none;\">\n",
       "                0.0048\n",
       "                \n",
       "                    &plusmn; 0.0012\n",
       "                \n",
       "            </td>\n",
       "            <td style=\"padding: 0 0.5em 0 0.5em; text-align: left; border: none;\">\n",
       "                vancomycin\n",
       "            </td>\n",
       "        </tr>\n",
       "    \n",
       "        <tr style=\"background-color: hsl(120, 100.00%, 85.37%); border: none;\">\n",
       "            <td style=\"padding: 0 1em 0 0.5em; text-align: right; border: none;\">\n",
       "                0.0048\n",
       "                \n",
       "                    &plusmn; 0.0044\n",
       "                \n",
       "            </td>\n",
       "            <td style=\"padding: 0 0.5em 0 0.5em; text-align: left; border: none;\">\n",
       "                complaint\n",
       "            </td>\n",
       "        </tr>\n",
       "    \n",
       "        <tr style=\"background-color: hsl(120, 100.00%, 85.37%); border: none;\">\n",
       "            <td style=\"padding: 0 1em 0 0.5em; text-align: right; border: none;\">\n",
       "                0.0048\n",
       "                \n",
       "                    &plusmn; 0.0029\n",
       "                \n",
       "            </td>\n",
       "            <td style=\"padding: 0 0.5em 0 0.5em; text-align: left; border: none;\">\n",
       "                sulfate\n",
       "            </td>\n",
       "        </tr>\n",
       "    \n",
       "        <tr style=\"background-color: hsl(120, 100.00%, 86.01%); border: none;\">\n",
       "            <td style=\"padding: 0 1em 0 0.5em; text-align: right; border: none;\">\n",
       "                0.0045\n",
       "                \n",
       "                    &plusmn; 0.0038\n",
       "                \n",
       "            </td>\n",
       "            <td style=\"padding: 0 0.5em 0 0.5em; text-align: left; border: none;\">\n",
       "                ed\n",
       "            </td>\n",
       "        </tr>\n",
       "    \n",
       "        <tr style=\"background-color: hsl(120, 100.00%, 86.01%); border: none;\">\n",
       "            <td style=\"padding: 0 1em 0 0.5em; text-align: right; border: none;\">\n",
       "                0.0045\n",
       "                \n",
       "                    &plusmn; 0.0033\n",
       "                \n",
       "            </td>\n",
       "            <td style=\"padding: 0 0.5em 0 0.5em; text-align: left; border: none;\">\n",
       "                mental\n",
       "            </td>\n",
       "        </tr>\n",
       "    \n",
       "        <tr style=\"background-color: hsl(120, 100.00%, 86.01%); border: none;\">\n",
       "            <td style=\"padding: 0 1em 0 0.5em; text-align: right; border: none;\">\n",
       "                0.0045\n",
       "                \n",
       "                    &plusmn; 0.0053\n",
       "                \n",
       "            </td>\n",
       "            <td style=\"padding: 0 0.5em 0 0.5em; text-align: left; border: none;\">\n",
       "                surgical\n",
       "            </td>\n",
       "        </tr>\n",
       "    \n",
       "        <tr style=\"background-color: hsl(120, 100.00%, 86.01%); border: none;\">\n",
       "            <td style=\"padding: 0 1em 0 0.5em; text-align: right; border: none;\">\n",
       "                0.0045\n",
       "                \n",
       "                    &plusmn; 0.0050\n",
       "                \n",
       "            </td>\n",
       "            <td style=\"padding: 0 0.5em 0 0.5em; text-align: left; border: none;\">\n",
       "                diabetes\n",
       "            </td>\n",
       "        </tr>\n",
       "    \n",
       "        <tr style=\"background-color: hsl(120, 100.00%, 86.67%); border: none;\">\n",
       "            <td style=\"padding: 0 1em 0 0.5em; text-align: right; border: none;\">\n",
       "                0.0042\n",
       "                \n",
       "                    &plusmn; 0.0029\n",
       "                \n",
       "            </td>\n",
       "            <td style=\"padding: 0 0.5em 0 0.5em; text-align: left; border: none;\">\n",
       "                recently\n",
       "            </td>\n",
       "        </tr>\n",
       "    \n",
       "        <tr style=\"background-color: hsl(120, 100.00%, 86.67%); border: none;\">\n",
       "            <td style=\"padding: 0 1em 0 0.5em; text-align: right; border: none;\">\n",
       "                0.0042\n",
       "                \n",
       "                    &plusmn; 0.0048\n",
       "                \n",
       "            </td>\n",
       "            <td style=\"padding: 0 0.5em 0 0.5em; text-align: left; border: none;\">\n",
       "                abdomen\n",
       "            </td>\n",
       "        </tr>\n",
       "    \n",
       "    \n",
       "        \n",
       "            <tr style=\"background-color: hsl(120, 100.00%, 86.67%); border: none;\">\n",
       "                <td colspan=\"2\" style=\"padding: 0 0.5em 0 0.5em; text-align: center; border: none; white-space: nowrap;\">\n",
       "                    <i>&hellip; 4980 more &hellip;</i>\n",
       "                </td>\n",
       "            </tr>\n",
       "        \n",
       "    \n",
       "    </tbody>\n",
       "</table>\n",
       "    \n",
       "\n",
       "    \n",
       "\n",
       "\n",
       "    \n",
       "\n",
       "    \n",
       "\n",
       "    \n",
       "\n",
       "    \n",
       "\n",
       "    \n",
       "\n",
       "    \n",
       "\n",
       "\n",
       "\n"
      ],
      "text/plain": [
       "<IPython.core.display.HTML object>"
      ]
     },
     "execution_count": 23,
     "metadata": {},
     "output_type": "execute_result"
    }
   ],
   "source": [
    "eli5.show_weights(perm, feature_names = valid_data.columns.tolist())"
   ]
  },
  {
   "cell_type": "code",
   "execution_count": 26,
   "metadata": {},
   "outputs": [],
   "source": [
    "df_results = pd.DataFrame({'classifier': ['RF_base_uni', 'RF_base_uni', 'RF_tuned_uni', 'RF_tuned_uni', 'GBM_base_uni', 'GBM_base_uni', 'GBM_tuned_uni', 'GBM_tuned_uni'],\n",
    "                           'data_set': ['train', 'valid']*4,\n",
    "\n",
    "                           'AUC': [0.98, 0.59, 0.91, 0.64, 0.88, 0.61, 0.62, 0.57]})"
   ]
  },
  {
   "cell_type": "code",
   "execution_count": 27,
   "metadata": {},
   "outputs": [
    {
     "data": {
      "image/png": "[encoded data removed]",
      "text/plain": [
       "<Figure size 720x432 with 1 Axes>"
      ]
     },
     "metadata": {},
     "output_type": "display_data"
    }
   ],
   "source": [
    "fig, ax = plt.subplots(figsize=(10, 6))\n",
    "sns.barplot(x=\"classifier\", hue=\"data_set\", y=\"AUC\", data=df_results)\n",
    "plt.show()"
   ]
  },
  {
   "cell_type": "code",
   "execution_count": null,
   "metadata": {},
   "outputs": [],
   "source": []
  }
 ],
 "metadata": {
  "kernelspec": {
   "display_name": "Python 3",
   "language": "python",
   "name": "python3"
  },
  "language_info": {
   "codemirror_mode": {
    "name": "ipython",
    "version": 3
   },
   "file_extension": ".py",
   "mimetype": "text/x-python",
   "name": "python",
   "nbconvert_exporter": "python",
   "pygments_lexer": "ipython3",
   "version": "3.6.4"
  },
  "toc": {
   "base_numbering": 1,
   "nav_menu": {},
   "number_sections": true,
   "sideBar": true,
   "skip_h1_title": false,
   "title_cell": "Table of Contents",
   "title_sidebar": "Contents",
   "toc_cell": false,
   "toc_position": {},
   "toc_section_display": true,
   "toc_window_display": false
  }
 },
 "nbformat": 4,
 "nbformat_minor": 2
}
