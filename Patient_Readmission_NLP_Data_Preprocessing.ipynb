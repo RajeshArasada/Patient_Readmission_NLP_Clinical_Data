{
 "cells": [
  {
   "cell_type": "markdown",
   "metadata": {},
   "source": [
    "# Predicting Hospital Readmission with Discharge Summaries"
   ]
  },
  {
   "cell_type": "markdown",
   "metadata": {},
   "source": [
    "# Model definition¶"
   ]
  },
  {
   "cell_type": "markdown",
   "metadata": {},
   "source": [
    "**Predict which patients are at risk for 30-day unplanned readmission utilizing free-text hospital discharge summaries.**"
   ]
  },
  {
   "cell_type": "markdown",
   "metadata": {},
   "source": [
    "Medical Information Mart for Intensive Care III(MIMIC-III) is a free hospital database. It harbors de-identified information from over 40,000 patients who were admitted to Beth Israel Deaconess Medical Center in Boston, Massachusetts from 2001 to 2012.\n",
    "\n",
    "For this project we will use two tables from this database:\n",
    "\n",
    "**ADMISSIONS** - a table containing patients information including the admission and discharge dates for each admission\n",
    "\n",
    "**NOTEEVENTS** - a table containing all notes for each hospitalization\n",
    "Both these tables share Hospital admission IDs (HADM_ID)\n",
    "\n",
    "Due to the restricted access, the github version of this code will show minimal individual patient data."
   ]
  },
  {
   "cell_type": "markdown",
   "metadata": {},
   "source": [
    "# Import libraries and data"
   ]
  },
  {
   "cell_type": "code",
   "execution_count": 1,
   "metadata": {},
   "outputs": [],
   "source": [
    "import numpy as np\n",
    "import pandas as pd\n",
    "import warnings\n",
    "warnings.filterwarnings(\"ignore\", category=FutureWarning)\n",
    "pd.set_option('display.max_columns', 999)\n",
    "pd.set_option('display.max_rows', 999)\n",
    "from datetime import datetime \n",
    "\n",
    "\n",
    "# Data Visualization\n",
    "import matplotlib.pyplot as plt\n",
    "%matplotlib inline\n",
    "plt.style.use('fivethirtyeight')\n",
    "from matplotlib.ticker import StrMethodFormatter"
   ]
  },
  {
   "cell_type": "code",
   "execution_count": 2,
   "metadata": {},
   "outputs": [
    {
     "name": "stdout",
     "output_type": "stream",
     "text": [
      "(2083180, 11)\n"
     ]
    },
    {
     "data": {
      "text/html": [
       "<div>\n",
       "<style scoped>\n",
       "    .dataframe tbody tr th:only-of-type {\n",
       "        vertical-align: middle;\n",
       "    }\n",
       "\n",
       "    .dataframe tbody tr th {\n",
       "        vertical-align: top;\n",
       "    }\n",
       "\n",
       "    .dataframe thead th {\n",
       "        text-align: right;\n",
       "    }\n",
       "</style>\n",
       "<table border=\"1\" class=\"dataframe\">\n",
       "  <thead>\n",
       "    <tr style=\"text-align: right;\">\n",
       "      <th></th>\n",
       "      <th>ROW_ID</th>\n",
       "      <th>SUBJECT_ID</th>\n",
       "      <th>HADM_ID</th>\n",
       "      <th>CHARTDATE</th>\n",
       "      <th>CHARTTIME</th>\n",
       "      <th>STORETIME</th>\n",
       "      <th>CATEGORY</th>\n",
       "      <th>DESCRIPTION</th>\n",
       "      <th>CGID</th>\n",
       "      <th>ISERROR</th>\n",
       "      <th>TEXT</th>\n",
       "    </tr>\n",
       "  </thead>\n",
       "  <tbody>\n",
       "    <tr>\n",
       "      <th>2031781</th>\n",
       "      <td>2031035</td>\n",
       "      <td>26022</td>\n",
       "      <td>101015.0</td>\n",
       "      <td>2162-01-26</td>\n",
       "      <td>2162-01-26 13:21:00</td>\n",
       "      <td>2162-01-26 13:22:00</td>\n",
       "      <td>Nursing/other</td>\n",
       "      <td>Report</td>\n",
       "      <td>15938.0</td>\n",
       "      <td>NaN</td>\n",
       "      <td>[** 63**] Physical Exam\\nPE: pink, AFOF, breat...</td>\n",
       "    </tr>\n",
       "  </tbody>\n",
       "</table>\n",
       "</div>"
      ],
      "text/plain": [
       "          ROW_ID  SUBJECT_ID   HADM_ID   CHARTDATE            CHARTTIME  \\\n",
       "2031781  2031035       26022  101015.0  2162-01-26  2162-01-26 13:21:00   \n",
       "\n",
       "                   STORETIME       CATEGORY DESCRIPTION     CGID  ISERROR  \\\n",
       "2031781  2162-01-26 13:22:00  Nursing/other      Report  15938.0      NaN   \n",
       "\n",
       "                                                      TEXT  \n",
       "2031781  [** 63**] Physical Exam\\nPE: pink, AFOF, breat...  "
      ]
     },
     "execution_count": 2,
     "metadata": {},
     "output_type": "execute_result"
    }
   ],
   "source": [
    "df_raw = pd.read_csv('NOTEEVENTS.csv.gz', compression='gzip', low_memory=False)\n",
    "df_raw_b = df_raw.copy()\n",
    "print(df_raw.shape)\n",
    "df_raw_b.sample(1)"
   ]
  },
  {
   "cell_type": "markdown",
   "metadata": {},
   "source": [
    "# Data pre-processing"
   ]
  },
  {
   "cell_type": "markdown",
   "metadata": {},
   "source": [
    "## ADMISSIONS"
   ]
  },
  {
   "cell_type": "code",
   "execution_count": 3,
   "metadata": {
    "scrolled": false
   },
   "outputs": [
    {
     "name": "stdout",
     "output_type": "stream",
     "text": [
      "['ROW_ID', 'SUBJECT_ID', 'HADM_ID', 'ADMITTIME', 'DISCHTIME', 'DEATHTIME', 'ADMISSION_TYPE', 'ADMISSION_LOCATION', 'DISCHARGE_LOCATION', 'INSURANCE', 'LANGUAGE', 'RELIGION', 'MARITAL_STATUS', 'ETHNICITY', 'EDREGTIME', 'EDOUTTIME', 'DIAGNOSIS', 'HOSPITAL_EXPIRE_FLAG', 'HAS_CHARTEVENTS_DATA']\n"
     ]
    }
   ],
   "source": [
    "# Load data and peak into the data\n",
    "admissions=pd.read_csv('ADMISSIONS.csv')\n",
    "admissions.sample(5)\n",
    "print(admissions.columns.tolist())"
   ]
  },
  {
   "cell_type": "markdown",
   "metadata": {},
   "source": [
    "**There is no readmission time column is not part of the dataset. However this can be calculated from** \n",
    "* 'ADMITTIME', \n",
    "* 'DISCHTIME'\n",
    "\n",
    "**For this project we are interested in predicting readmission based on the discharge summaries. Hence we will not consider any other information pertaining to the patient. These include:**\n",
    "* 'ADMISSION_LOCATION' \n",
    "* 'DISCHARGE_LOCATION' \n",
    "* 'INSURANCE'\n",
    "* 'LANGUAGE' \n",
    "* 'RELIGION' \n",
    "* 'MARITAL_STATUS' \n",
    "* 'ETHNICITY'\n",
    "* 'EDREGTIME' \n",
    "* 'EDOUTTIME' \n",
    "* 'DIAGNOSIS' \n",
    "* 'HOSPITAL_EXPIRE_FLAG' \n",
    "* 'HAS_CHARTEVENTS_DATA'\n",
    "\n",
    "**The columns we will start working with are:**\n",
    "**Columns with IDs**\n",
    "* 'ROW_ID'     - Numeric & index. We will drop after data wrangling\n",
    "* 'SUBJECT_ID' - Important \n",
    "* 'HADM_ID'    - Important \n",
    "**Time information**\n",
    "* 'ADMITTIME'  - Important \n",
    "* 'DISCHTIME'  - Important \n",
    "* 'DEATHTIME'  - Important\n",
    "****\n",
    "* 'ADMISSION_TYPE' - Explore this column "
   ]
  },
  {
   "cell_type": "code",
   "execution_count": 4,
   "metadata": {},
   "outputs": [],
   "source": [
    "# Subset just the dataframe to work only with the important columns\n",
    "admissions = admissions[['ROW_ID', 'SUBJECT_ID', 'HADM_ID', 'ADMITTIME',\n",
    "                         'DEATHTIME','DISCHTIME', 'ADMISSION_TYPE']]"
   ]
  },
  {
   "cell_type": "markdown",
   "metadata": {},
   "source": [
    "### ADMISSION_TYPE"
   ]
  },
  {
   "cell_type": "markdown",
   "metadata": {},
   "source": [
    "**Let's explore the feature admission_type**"
   ]
  },
  {
   "cell_type": "code",
   "execution_count": 5,
   "metadata": {},
   "outputs": [
    {
     "data": {
      "text/plain": [
       "(-1500, 50000)"
      ]
     },
     "execution_count": 5,
     "metadata": {},
     "output_type": "execute_result"
    },
    {
     "data": {
      "image/png": "[encoded data removed]",
      "text/plain": [
       "<Figure size 720x360 with 1 Axes>"
      ]
     },
     "metadata": {},
     "output_type": "display_data"
    }
   ],
   "source": [
    "admission_types = admissions['ADMISSION_TYPE'].value_counts().to_dict()\n",
    "names = list(admission_types.keys())\n",
    "values = list(admission_types.values())\n",
    "\n",
    "fig, ax = plt.subplots(figsize=(10,5))\n",
    "ax.barh(names, values, color='#EE6666')\n",
    "ax.set(title='ADMISSION TYPES', ylabel='admission_types', xlabel='count')\n",
    "ax.set_xlim(-1500, 50000)"
   ]
  },
  {
   "cell_type": "markdown",
   "metadata": {},
   "source": [
    "**Since we are interested in predicting unplanned readmission. We will not consider \n",
    "information about patients who opted for hospital admission**\n",
    "\n",
    "### Select patients who came to the 'emergency 'or 'urgent care'"
   ]
  },
  {
   "cell_type": "code",
   "execution_count": 6,
   "metadata": {},
   "outputs": [],
   "source": [
    "# Extract index values \n",
    "emerg_urg_idx = admissions[(admissions['ADMISSION_TYPE'] == 'EMERGENCY') | \n",
    "                              (admissions['ADMISSION_TYPE'] == 'URGENT')].index.values\n",
    "# Subset the dataframe\n",
    "admissions = admissions.loc[emerg_urg_idx, :]"
   ]
  },
  {
   "cell_type": "markdown",
   "metadata": {},
   "source": [
    "### Remove the information of dead patients"
   ]
  },
  {
   "cell_type": "code",
   "execution_count": 7,
   "metadata": {},
   "outputs": [
    {
     "data": {
      "text/html": [
       "<div>\n",
       "<style scoped>\n",
       "    .dataframe tbody tr th:only-of-type {\n",
       "        vertical-align: middle;\n",
       "    }\n",
       "\n",
       "    .dataframe tbody tr th {\n",
       "        vertical-align: top;\n",
       "    }\n",
       "\n",
       "    .dataframe thead th {\n",
       "        text-align: right;\n",
       "    }\n",
       "</style>\n",
       "<table border=\"1\" class=\"dataframe\">\n",
       "  <thead>\n",
       "    <tr style=\"text-align: right;\">\n",
       "      <th></th>\n",
       "      <th>ROW_ID</th>\n",
       "      <th>SUBJECT_ID</th>\n",
       "      <th>HADM_ID</th>\n",
       "      <th>ADMITTIME</th>\n",
       "      <th>DISCHTIME</th>\n",
       "      <th>ADMISSION_TYPE</th>\n",
       "    </tr>\n",
       "  </thead>\n",
       "  <tbody>\n",
       "    <tr>\n",
       "      <th>0</th>\n",
       "      <td>21</td>\n",
       "      <td>22</td>\n",
       "      <td>165315</td>\n",
       "      <td>2196-04-09 12:26:00</td>\n",
       "      <td>2196-04-10 15:54:00</td>\n",
       "      <td>EMERGENCY</td>\n",
       "    </tr>\n",
       "    <tr>\n",
       "      <th>2</th>\n",
       "      <td>23</td>\n",
       "      <td>23</td>\n",
       "      <td>124321</td>\n",
       "      <td>2157-10-18 19:34:00</td>\n",
       "      <td>2157-10-25 14:00:00</td>\n",
       "      <td>EMERGENCY</td>\n",
       "    </tr>\n",
       "    <tr>\n",
       "      <th>3</th>\n",
       "      <td>24</td>\n",
       "      <td>24</td>\n",
       "      <td>161859</td>\n",
       "      <td>2139-06-06 16:14:00</td>\n",
       "      <td>2139-06-09 12:48:00</td>\n",
       "      <td>EMERGENCY</td>\n",
       "    </tr>\n",
       "    <tr>\n",
       "      <th>4</th>\n",
       "      <td>25</td>\n",
       "      <td>25</td>\n",
       "      <td>129635</td>\n",
       "      <td>2160-11-02 02:06:00</td>\n",
       "      <td>2160-11-05 14:55:00</td>\n",
       "      <td>EMERGENCY</td>\n",
       "    </tr>\n",
       "    <tr>\n",
       "      <th>5</th>\n",
       "      <td>26</td>\n",
       "      <td>26</td>\n",
       "      <td>197661</td>\n",
       "      <td>2126-05-06 15:16:00</td>\n",
       "      <td>2126-05-13 15:00:00</td>\n",
       "      <td>EMERGENCY</td>\n",
       "    </tr>\n",
       "  </tbody>\n",
       "</table>\n",
       "</div>"
      ],
      "text/plain": [
       "   ROW_ID  SUBJECT_ID  HADM_ID            ADMITTIME            DISCHTIME  \\\n",
       "0      21          22   165315  2196-04-09 12:26:00  2196-04-10 15:54:00   \n",
       "2      23          23   124321  2157-10-18 19:34:00  2157-10-25 14:00:00   \n",
       "3      24          24   161859  2139-06-06 16:14:00  2139-06-09 12:48:00   \n",
       "4      25          25   129635  2160-11-02 02:06:00  2160-11-05 14:55:00   \n",
       "5      26          26   197661  2126-05-06 15:16:00  2126-05-13 15:00:00   \n",
       "\n",
       "  ADMISSION_TYPE  \n",
       "0      EMERGENCY  \n",
       "2      EMERGENCY  \n",
       "3      EMERGENCY  \n",
       "4      EMERGENCY  \n",
       "5      EMERGENCY  "
      ]
     },
     "execution_count": 7,
     "metadata": {},
     "output_type": "execute_result"
    }
   ],
   "source": [
    "# Select patient with no deathtime given assuming they are alive\n",
    "admissions = admissions[admissions['DEATHTIME'].isnull()]\n",
    "\n",
    "#Drop the deathtime column since it is only a null column\n",
    "admissions.drop(['DEATHTIME'], axis=1, inplace=True)\n",
    "admissions.head()"
   ]
  },
  {
   "cell_type": "markdown",
   "metadata": {},
   "source": [
    "### Convert date and time columns to datetime objects and  create new features to compute days until the next admission"
   ]
  },
  {
   "cell_type": "code",
   "execution_count": 8,
   "metadata": {},
   "outputs": [],
   "source": [
    "admissions[['ADMITTIME', 'DISCHTIME']] = admissions[['ADMITTIME', 'DISCHTIME']].apply(\n",
    "    pd.to_datetime, format='%Y-%m-%d %H:%M:%S', errors='coerce')\n",
    "\n",
    "# sort by subject_ID and admission date\n",
    "admissions = admissions.sort_values(['SUBJECT_ID','ADMITTIME']).reset_index(drop=True)"
   ]
  },
  {
   "cell_type": "markdown",
   "metadata": {},
   "source": [
    "Add the next admission date and type columns for each subject using groupby. Groupby is necessary otherwise the dates will be from different users"
   ]
  },
  {
   "cell_type": "code",
   "execution_count": 9,
   "metadata": {},
   "outputs": [],
   "source": [
    "# Next 'ADMITTIME'\n",
    "admissions['NEXT_ADMITTIME'] = admissions.groupby('SUBJECT_ID')[\n",
    "    'ADMITTIME'].shift(-1)\n",
    "# Next 'ADMITTYPE'\n",
    "admissions['NEXT_ADMISSION_TYPE'] = admissions.groupby(\n",
    "    'SUBJECT_ID')['ADMISSION_TYPE'].shift(-1)"
   ]
  },
  {
   "cell_type": "code",
   "execution_count": 10,
   "metadata": {},
   "outputs": [],
   "source": [
    "rows = admissions[admissions['NEXT_ADMISSION_TYPE']\n",
    "                    == 'ELECTIVE'].index.values\n",
    "admissions.loc[rows, 'NEXT_ADMISSION_TYPE'] = np.NaN\n",
    "admissions.loc[rows, 'NEXT_ADMITTIME'] = pd.NaT"
   ]
  },
  {
   "cell_type": "code",
   "execution_count": 11,
   "metadata": {},
   "outputs": [],
   "source": [
    "# sort by subject_ID and admission date\n",
    "# it is safer to sort right before the fill incase something changed the order above\n",
    "admissions = admissions.sort_values(['SUBJECT_ID', 'ADMITTIME'])\n",
    "\n",
    "# back fill (this will take a little while)\n",
    "admissions[['NEXT_ADMITTIME', 'NEXT_ADMISSION_TYPE']] = admissions.groupby(\n",
    "    ['SUBJECT_ID'])[['NEXT_ADMITTIME', 'NEXT_ADMISSION_TYPE']].fillna(method='bfill')"
   ]
  },
  {
   "cell_type": "markdown",
   "metadata": {},
   "source": [
    "### Calculate days until next admission¶"
   ]
  },
  {
   "cell_type": "code",
   "execution_count": 12,
   "metadata": {},
   "outputs": [],
   "source": [
    "# calculate the number of days between discharge and next admission\n",
    "admissions['DAYS_NEXT_ADMIT'] = (\n",
    "    admissions['NEXT_ADMITTIME'] - admissions.DISCHTIME).dt.total_seconds()/(24*60*60)"
   ]
  },
  {
   "cell_type": "code",
   "execution_count": 13,
   "metadata": {},
   "outputs": [
    {
     "data": {
      "image/png": "[encoded data removed]",
      "text/plain": [
       "<Figure size 432x288 with 1 Axes>"
      ]
     },
     "metadata": {},
     "output_type": "display_data"
    }
   ],
   "source": [
    "plt.hist(admissions.loc[~admissions.DAYS_NEXT_ADMIT.isnull(), 'DAYS_NEXT_ADMIT'], bins=range(0, 365, 30))\n",
    "plt.xlim([0, 365])\n",
    "plt.xlabel('Days between admissions')\n",
    "plt.ylabel('Counts')\n",
    "plt.show()"
   ]
  },
  {
   "cell_type": "markdown",
   "metadata": {},
   "source": [
    "Since not all the columns are important for the classification we will subset the dataframe"
   ]
  },
  {
   "cell_type": "markdown",
   "metadata": {},
   "source": [
    "## NOTES"
   ]
  },
  {
   "cell_type": "code",
   "execution_count": 14,
   "metadata": {
    "scrolled": true
   },
   "outputs": [
    {
     "name": "stdout",
     "output_type": "stream",
     "text": [
      "['ROW_ID', 'SUBJECT_ID', 'HADM_ID', 'CHARTDATE', 'CHARTTIME', 'STORETIME', 'CATEGORY', 'DESCRIPTION', 'CGID', 'ISERROR', 'TEXT']\n"
     ]
    }
   ],
   "source": [
    "# Load the csv file\n",
    "notes_raw=pd.read_csv('NOTEEVENTS.csv.gz', compression='gzip', low_memory=False, parse_dates=True)\n",
    "notes=notes_raw.copy()\n",
    "print(notes.columns.tolist())"
   ]
  },
  {
   "cell_type": "markdown",
   "metadata": {},
   "source": [
    "**We are interested in only few columns particularly the 'TEXT','SUBJECT_ID' and 'HADM_ID' columns to combine the dataframe with the admission dataframe. Another column that we are interested in is the 'CATEGORY' column. "
   ]
  },
  {
   "cell_type": "code",
   "execution_count": 15,
   "metadata": {},
   "outputs": [
    {
     "data": {
      "text/plain": [
       "1371881"
      ]
     },
     "execution_count": 15,
     "metadata": {},
     "output_type": "execute_result"
    }
   ],
   "source": [
    "notes['SUBJECT_ID'].isin(admissions['SUBJECT_ID']).astype('int64').sum()"
   ]
  },
  {
   "cell_type": "code",
   "execution_count": 16,
   "metadata": {
    "scrolled": false
   },
   "outputs": [
    {
     "name": "stdout",
     "output_type": "stream",
     "text": [
      "{'Nursing/other': 822497, 'Radiology': 522279, 'Nursing': 223556, 'ECG': 209051, 'Physician ': 141624, 'Discharge summary': 59652, 'Echo': 45794, 'Respiratory ': 31739, 'Nutrition': 9418, 'General': 8301, 'Rehab Services': 5431, 'Social Work': 2670, 'Case Management ': 967, 'Pharmacy': 103, 'Consult': 98}\n"
     ]
    },
    {
     "data": {
      "text/plain": [
       "[Text(0, 0.5, 'categories'),\n",
       " Text(0.5, 0, 'count'),\n",
       " Text(0.5, 1.0, 'Distribution of Notes Categories')]"
      ]
     },
     "execution_count": 16,
     "metadata": {},
     "output_type": "execute_result"
    },
    {
     "data": {
      "image/png": "[encoded data removed]",
      "text/plain": [
       "<Figure size 720x360 with 1 Axes>"
      ]
     },
     "metadata": {},
     "output_type": "display_data"
    }
   ],
   "source": [
    "notes_categories = notes['CATEGORY'].value_counts().to_dict()\n",
    "print(notes_categories)\n",
    "\n",
    "# Plot a count plot\n",
    "categories = list(notes_categories.keys())\n",
    "count = list(notes_categories.values())\n",
    "\n",
    "figure, ax = plt.subplots(figsize=(10, 5))\n",
    "ax.barh(categories, count, color='#EE6666')\n",
    "ax.set(title = 'Distribution of Notes Categories', xlabel='count' , ylabel='categories')"
   ]
  },
  {
   "cell_type": "markdown",
   "metadata": {},
   "source": [
    "**We are only interested in the discharge summaries and not other notes. Hence we will select only those observations with discharge summaries.**"
   ]
  },
  {
   "cell_type": "markdown",
   "metadata": {},
   "source": [
    "### Filter the data for observations with discharge summaries"
   ]
  },
  {
   "cell_type": "code",
   "execution_count": 17,
   "metadata": {},
   "outputs": [
    {
     "name": "stdout",
     "output_type": "stream",
     "text": [
      "   ROW_ID  SUBJECT_ID   HADM_ID   CHARTDATE CHARTTIME STORETIME  \\\n",
      "0     174       22532  167853.0  2151-08-04       NaN       NaN   \n",
      "1     175       13702  107527.0  2118-06-14       NaN       NaN   \n",
      "2     176       13702  167118.0  2119-05-25       NaN       NaN   \n",
      "3     177       13702  196489.0  2124-08-18       NaN       NaN   \n",
      "4     178       26880  135453.0  2162-03-25       NaN       NaN   \n",
      "\n",
      "            CATEGORY DESCRIPTION  CGID  ISERROR  \\\n",
      "0  Discharge summary      Report   NaN      NaN   \n",
      "1  Discharge summary      Report   NaN      NaN   \n",
      "2  Discharge summary      Report   NaN      NaN   \n",
      "3  Discharge summary      Report   NaN      NaN   \n",
      "4  Discharge summary      Report   NaN      NaN   \n",
      "\n",
      "                                                TEXT  \n",
      "0  Admission Date:  [**2151-7-16**]       Dischar...  \n",
      "1  Admission Date:  [**2118-6-2**]       Discharg...  \n",
      "2  Admission Date:  [**2119-5-4**]              D...  \n",
      "3  Admission Date:  [**2124-7-21**]              ...  \n",
      "4  Admission Date:  [**2162-3-3**]              D...  \n"
     ]
    }
   ],
   "source": [
    "notes_subset = notes[notes['CATEGORY']== 'Discharge summary']\n",
    "print(notes_subset.head())"
   ]
  },
  {
   "cell_type": "code",
   "execution_count": 18,
   "metadata": {},
   "outputs": [
    {
     "data": {
      "text/plain": [
       "[Text(0, 0.5, 'Normed Frequency'),\n",
       " Text(0.5, 0, 'Number of Notes'),\n",
       " Text(0.5, 1.0, 'Distribution of number of notes per patient')]"
      ]
     },
     "execution_count": 18,
     "metadata": {},
     "output_type": "execute_result"
    },
    {
     "data": {
      "image/png": "[encoded data removed]",
      "text/plain": [
       "<Figure size 720x360 with 1 Axes>"
      ]
     },
     "metadata": {},
     "output_type": "display_data"
    }
   ],
   "source": [
    "# plot the distribution of number of notes per patient\n",
    "num_notes_patients = notes_subset.groupby(['SUBJECT_ID','HADM_ID'])['TEXT'].count()\n",
    "\n",
    "figure, ax = plt.subplots(figsize=(10,5))\n",
    "ax.hist(num_notes_patients, bins=10, density = True, color='#EE6666')\n",
    "ax.set(title='Distribution of number of notes per patient', xlabel= 'Number of Notes', ylabel = \"Normed Frequency\")"
   ]
  },
  {
   "cell_type": "markdown",
   "metadata": {},
   "source": [
    "**While most patients have only one discharge summary some have more than one. We can either combine all the notes of a patient and use them or only consider the last discharge summary. We will use only the last discharge summary for this model.**"
   ]
  },
  {
   "cell_type": "code",
   "execution_count": 19,
   "metadata": {},
   "outputs": [],
   "source": [
    "notes_subset = notes_subset.groupby(['SUBJECT_ID','HADM_ID']).nth(-1).reset_index()"
   ]
  },
  {
   "cell_type": "code",
   "execution_count": 20,
   "metadata": {
    "scrolled": false
   },
   "outputs": [
    {
     "data": {
      "text/plain": [
       "[Text(0, 0.5, 'Normed Frequency'),\n",
       " Text(0.5, 0, 'Number of Notes'),\n",
       " Text(0.5, 1.0, 'Distribution of number of notes per patient')]"
      ]
     },
     "execution_count": 20,
     "metadata": {},
     "output_type": "execute_result"
    },
    {
     "data": {
      "image/png": "[encoded data removed]",
      "text/plain": [
       "<Figure size 720x360 with 1 Axes>"
      ]
     },
     "metadata": {},
     "output_type": "display_data"
    }
   ],
   "source": [
    "num_notes_patients = notes_subset.groupby(['SUBJECT_ID','HADM_ID'])['TEXT'].count()\n",
    "\n",
    "figure, ax = plt.subplots(figsize=(10,5))\n",
    "ax.hist(num_notes_patients, bins=10, density = True, color='#EE6666')\n",
    "ax.set(title='Distribution of number of notes per patient', xlabel= 'Number of Notes', ylabel = \"Normed Frequency\")"
   ]
  },
  {
   "cell_type": "markdown",
   "metadata": {},
   "source": [
    "# Merge Dataframes"
   ]
  },
  {
   "cell_type": "code",
   "execution_count": 21,
   "metadata": {},
   "outputs": [
    {
     "name": "stdout",
     "output_type": "stream",
     "text": [
      "<class 'pandas.core.frame.DataFrame'>\n",
      "Int64Index: 37812 entries, 0 to 37811\n",
      "Data columns (total 18 columns):\n",
      "ROW_ID_x               37812 non-null int64\n",
      "SUBJECT_ID             37812 non-null int64\n",
      "HADM_ID                37812 non-null int64\n",
      "ADMITTIME              37812 non-null datetime64[ns]\n",
      "DISCHTIME              37812 non-null datetime64[ns]\n",
      "ADMISSION_TYPE         37812 non-null object\n",
      "NEXT_ADMITTIME         8521 non-null datetime64[ns]\n",
      "NEXT_ADMISSION_TYPE    8521 non-null object\n",
      "DAYS_NEXT_ADMIT        8521 non-null float64\n",
      "CATEGORY               36732 non-null object\n",
      "CGID                   0 non-null float64\n",
      "CHARTDATE              36732 non-null object\n",
      "CHARTTIME              0 non-null object\n",
      "DESCRIPTION            36732 non-null object\n",
      "ISERROR                0 non-null float64\n",
      "ROW_ID_y               36732 non-null float64\n",
      "STORETIME              0 non-null object\n",
      "TEXT                   36732 non-null object\n",
      "dtypes: datetime64[ns](3), float64(4), int64(3), object(8)\n",
      "memory usage: 5.5+ MB\n"
     ]
    }
   ],
   "source": [
    "merged_df = pd.merge(admissions, notes_subset, on=['SUBJECT_ID','HADM_ID'], how='left')\n",
    "\n",
    "merged_df.shape\n",
    "\n",
    "merged_df.info()"
   ]
  },
  {
   "cell_type": "code",
   "execution_count": 22,
   "metadata": {
    "scrolled": true
   },
   "outputs": [
    {
     "data": {
      "text/plain": [
       "1080"
      ]
     },
     "execution_count": 22,
     "metadata": {},
     "output_type": "execute_result"
    }
   ],
   "source": [
    "merged_df['TEXT'].isnull().sum()"
   ]
  },
  {
   "cell_type": "code",
   "execution_count": 23,
   "metadata": {},
   "outputs": [],
   "source": [
    "merged_df.dropna(subset=['TEXT'], inplace=True)"
   ]
  },
  {
   "cell_type": "code",
   "execution_count": 24,
   "metadata": {},
   "outputs": [],
   "source": [
    "def remove_special_text(text):\n",
    "    import string\n",
    "    punc_list=string.punctuation + '0123456789'\n",
    "    t = str.maketrans(dict.fromkeys(punc_list, \"\"))\n",
    "    text = text.lower().translate(t)\n",
    "    text = text.replace('\\n', \" \")\n",
    "    text = text.replace('\\r', ' ')\n",
    "    text = text.replace(\"(<br/>)\", \" \")\n",
    "    text = text.replace('(<a).*(>).*(</a>)',' ')\n",
    "    text = text.replace('(&amp)', ' ')\n",
    "    text = text.replace('(&gt)', ' ')\n",
    "    text = text.replace('(&lt)', ' ')\n",
    "    text = text.replace('(\\xa0)', ' ')\n",
    "    return text"
   ]
  },
  {
   "cell_type": "code",
   "execution_count": 25,
   "metadata": {},
   "outputs": [],
   "source": [
    "merged_df['TEXT_CLEAN'] = [remove_special_text(str(i)) for i in merged_df['TEXT']]"
   ]
  },
  {
   "cell_type": "code",
   "execution_count": 26,
   "metadata": {
    "cell_style": "center"
   },
   "outputs": [
    {
     "data": {
      "text/plain": [
       "\"Admission Date:  [**2101-10-20**]     Discharge Date:  [**2101-10-31**]\\n\\nDate of Birth:   [**2025-4-11**]     Sex:  M\\n\\nService:  Medicine\\n\\nCHIEF COMPLAINT:  Admitted from rehabilitation for\\nhypotension (systolic blood pressure to the 70s) and\\ndecreased urine output.\\n\\nHISTORY OF PRESENT ILLNESS:  The patient is a 76-year-old\\nmale who had been hospitalized at the [**Hospital1 190**] from [**10-11**] through [**10-19**] of [**2101**]\\nafter undergoing a left femoral-AT bypass graft and was\\nsubsequently discharged to a rehabilitation facility.\\n\\nOn [**2101-10-20**], he presented again to the [**Hospital1 346**] after being found to have a systolic\\nblood pressure in the 70s and no urine output for 17 hours.\\nA Foley catheter placed at the rehabilitation facility\\nyielded 100 cc of murky/brown urine.  There may also have\\nbeen purulent discharge at the penile meatus at this time.\\n\\nOn presentation to the Emergency Department, the patient was\\nwithout subjective complaints.  In the Emergency Department,\\nhe was found to have systolic blood pressure of 85.  He was\\ngiven 6 liters of intravenous fluids and transiently started\\non dopamine for a systolic blood pressure in the 80.s\\n\\nPAST MEDICAL HISTORY:\\n 1.  Coronary artery disease with diffuse 3-vessel disease;\\nright-dominant, status post proximal left circumflex stent in\\n[**2101-7-9**] with occlusion of the distal left circumflex;\\nstatus post right coronary artery stent on [**2101-8-26**] (no\\npercutaneous coronary intervention to 99% diagonal left\\ncircumflex, 80% small proximal left anterior descending\\nartery, or 80% small distal left anterior descending artery).\\n 2.  Congestive heart failure (with an ejection fraction\\nof 15% to 20%).\\n 3.  Type 2 diabetes with neuropathy.\\n 4.  Hypertension.\\n 5.  Diverticulosis (found on colonoscopy in [**2101-7-9**]).\\n 6.  Alzheimer's dementia.\\n 7.  History of gastrointestinal bleed (while the patient was\\ntaking eptifibatide).\\n 8.  Cardiac risk factors (with a baseline creatinine\\nof 1.4 to 1.6).\\n 9.  Hypercholesterolemia.\\n10.  History of methicillin-resistant Staphylococcus aureus\\nand Pseudomonas growth in wound cultures.\\n11.  Severe peripheral vascular disease; status post left\\nfemoral-AT bypass graft on [**2101-10-11**].\\n12.  Chronic nonhealing foot ulcers.\\n13.  Recent right pedal cellulitis.\\n\\nALLERGIES:  The patient has no known drug allergies.\\n\\nMEDICATIONS ON ADMISSION:\\n 1.  Vancomycin 1 g intravenously q.24h. for a level of less\\nthan 15 (started on [**2101-10-4**]).\\n 2.  Levofloxacin 250 mg p.o. q.d. (started on [**2101-10-4**]).\\n 3.  Metronidazole 500 mg p.o. q.8h. (started on [**2101-10-4**]).\\n 4.  Heparin 5000 units subcutaneous b.i.d.\\n 5.  Simvastatin 40 mg p.o. q.d.\\n 6.  Lisinopril 5 mg p.o. q.d.\\n 7.  Furosemide 40 mg p.o. q.d.\\n 8.  Vitamin E 400 IU p.o. q.d.\\n 9.  Atenolol 25 mg p.o. q.d.\\n10.  Pantoprazole 40 mg p.o. q.d.\\n11.  Ascorbic acid 500 mg p.o. b.i.d.\\n12.  NPH 17 units b.i.d.\\n13.  Regular insulin sliding-scale.\\n14.  Bisacodyl 10 mg p.o./p.r. as needed.\\n15.  Docusate 100 mg p.o. b.i.d.\\n16.  Percocet 5/325 mg one tablet p.o. q.4-6h. as needed for\\npain.\\n17.  Aspirin 81 mg p.o. q.d.\\n18.  Metoprolol 75 mg p.o. b.i.d.\\n\\nSOCIAL HISTORY:  The patient is retired and had been living\\nat home with his wife prior to his admission to the hospital\\non [**2101-10-11**]; he had been living at [**Hospital3 1761**] for the day prior to admission.  He is a\\nsocial drinker and has a 40-pack-year smoking history;\\nalthough, he quit smoking 20 years ago.\\n\\nPHYSICAL EXAMINATION ON PRESENTATION:   Initial physical\\nexamination revealed temperature was 96.1 degrees Fahrenheit,\\nheart rate was 83, blood pressure was 124/42 (following\\nadministration of 3 liters of normal saline), respiratory\\nwas 24, and his oxygen saturation was 100% on 2 liters nasal\\ncannula.  His heart had a regular rate and rhythm.  There\\nwere normal first and second heart sounds.  There was a 2/6\\nsystolic ejection murmur, and there were no rubs or gallops.\\nHis lungs were clear to auscultation bilaterally.  His\\nabdomen was soft, nontender, and nondistended, and there were\\nhypoactive bowel sounds.  He had a palpable bypass graft\\npulse, [**Hospital3 17394**] dorsalis pedis and posterior tibialis\\npulses bilaterally; and his surgical incision was clean, dry,\\nand intact.  Please note that the above examination was done\\nby the Vascular Surgery team, which was the team that was\\ninitially planning to admit the patient to the hospital.\\n\\nPERTINENT LABORATORY DATA ON PRESENTATION:  On initial\\nlaboratory evaluation the patient had a white blood cell\\ncount of 12.7, hematocrit was 30.2, and platelets\\nwere 282,000.  His PT was 13.5, PTT was 30.7, and INR\\nwas 1.3.  His serum chemistries revealed sodium was 136,\\npotassium was 5.4, chloride was 99, bicarbonate was 25, blood\\nurea nitrogen was 53, creatinine was 3.2, and blood glucose\\nwas 91.  His calcium was 8.2, magnesium was 2.4, and\\nphosphate was 4.8.  Blood cultures drawn on admission were\\npending, but ultimately negative.  A urine culture taken on\\nadmission was initially pending, but ultimately grew out\\nyeast.  A sputum culture taken on admission was also\\ninitially pending, but ultimately also grew out yeast.\\n\\nRADIOLOGY/IMAGING:  His admission chest x-ray demonstrated\\nstable prominence of the right main pulmonary artery; no\\nfocal areas of consolidation; overall stable appearance of\\nthe chest compared with a [**2101-10-15**] study.  No\\nradiographic evidence of congestive heart failure or\\npneumonia.\\n\\nHis admission electrocardiogram demonstrated a sinus rhythm,\\nnonspecific inferior/lateral T wave changes, low QRS voltages\\nin the limb leads, and T wave changes in V5 and V6 when\\ncompared with an electrocardiogram dated [**2101-10-12**].\\n\\nAn initial abdominal CT was a limited noncontrast examination\\nthat demonstrated diffuse vascular calcifications.  No\\nevidence of an abdominal aortic aneurysm or free fluid,\\nincompletely imaged coronary artery calcification, a simple\\nleft renal cyst, sigmoid diverticulosis, and an enlarged and\\npartially calcified prostate gland.\\n\\nHOSPITAL COURSE BY SYSTEM:\\n\\n1.  CARDIOVASCULAR:  The patient was initially admitted to\\nthe Vascular Intensive Care Unit with hypotension, decreased\\nurine output, and acute renal failure; most likely secondary\\nto a presumed gram-negative urosepsis (although there were\\nnever any positive culture data to confirm this diagnosis).\\n\\nWhile boarding in the Medical Intensive Care Unit on the\\nnight of admission, the patient had a sudden\\ncardiorespiratory arrest.  He was resuscitated with\\nepinephrine, lidocaine, and direct current cardioversion\\ntimes four.  He was also intubate for airway protection.\\n\\nFollowing these measures, the patient returned to a sinus\\nrhythm with a systolic blood pressure of approximately 100;\\nthe total time elapsed from the beginning of the arrest to\\nthe return of a pulse was approximately 16 minutes.  He\\nsubsequently required double pressors to maintain his blood\\npressure.\\n\\nAn echocardiogram performed at the bedside demonstrated a\\ntrivial pericardial effusion and a left ventricular ejection\\nfraction of 20% to 25% in the setting of tachycardia and a\\nhyperdynamic right ventricle; suggesting elevated right-sided\\nfilling pressures.  Although the definitive etiology of this\\narrest remained unknown, the most likely trigger was a\\nnon-Q-wave myocardial infarction, as his troponin values were\\nelevated to greater than 50 following his arrest.\\n\\nA repeat echocardiogram done on [**2101-10-21**]\\ndemonstrated mild left atrial dilation, an ejection fraction\\nof 15% to 20%, resting regional wall motion abnormalities\\nincluding inferior, mid, and apical left ventricular\\nakinesis, depressed right ventricular systolic function, and\\nmoderate mitral regurgitation.  Compared with the prior study\\nof [**2101-10-20**]; the left ventricular function was\\nunchanged.  There was moderate mitral regurgitation, and the\\nright ventricular function appeared worse.\\n\\nOn [**2101-10-21**], the patient was loaded with amiodarone\\nand was subsequently started on oral amiodarone.  The\\nfollowing day, he was started on heparin intravenously given\\nhis elevated serum troponin to greater than 50; this\\nmedication was continued for 72 hours.  Given his elevated\\ntroponins and non-Q-wave myocardial infarction, the patient\\nwas a candidate for cardiac catheterization.\\n\\nAfter discussions between the Medical Intensive Care Unit\\nteam and the patient's family, however, the decision was made\\nto not pursue further invasive procedures given that the\\npatient had been made do not resuscitate/do not intubate\\nfollowing the resuscitation mentioned above, and his family\\nno longer wished for aggressive resuscitating measures.\\n\\nBy [**2101-10-23**], he was off pressors and he was\\nrestarted on a beta blocker and ACE inhibitor at low doses.\\n\\nOn the evening of [**2101-10-25**], the patient complained\\nof substernal chest pain that was relieved by NPG SL and\\nmorphine.  He also had ST segment depressions in V2 and V3\\nthat reverted to baseline after the resolution of his pain.\\nTherefore, the patient was again started on heparin;\\nalthough, this was discontinued on [**2101-10-26**] when\\nthe patient ruled out for a myocardial infarction by cardiac\\nenzymes.  He again had substernal chest pain on [**2101-10-27**]; although, he had no electrocardiogram changes, and he\\nagain ruled out for a myocardial infarction by cardiac\\nenzymes.\\n\\nBy hospital day four, the patient began to develop evidence\\nof congestive heart failure given his aggressive fluid\\nresuscitation, and gentle diuresis with furosemide was begun.\\nBy the time of his transfer to the General Medicine Service\\non [**2101-10-26**], the patient was still significantly\\nvolume overloaded following his aggressive fluid\\nresuscitation in the Medical Intensive Care Unit.  Therefore,\\nhe was continued on the program of gentle diuresis given that\\nhe was having signs and symptoms of right-sided congestive\\nheart failure.  He achieved adequate diuresis by the time of\\nhis discharge to rehabilitation, as his oxygen saturation was\\ngreater than 95% on 2 liters nasal cannula.\\n\\n2.  INFECTIOUS DISEASE/SEPSIS:  The patient was started on\\ngentamicin and piperacillin/tazobactam in addition to the\\nlevofloxacin, metronidazole, and vancomycin he was already\\ntaking for right lower extremity cellulitis prior to\\nadmission for empiric coverage of a presumed gram-negative\\nurosepsis, and he was aggressively hydrated with intravenous\\nfluids.\\n\\nOn [**2101-10-21**], his levofloxacin and metronidazole was\\ndiscontinued, and he was started on fluconazole given the\\ngrowth of yeast on urine culture.  He was taken off of\\ngentamicin on hospital day three, and his fluconazole was\\ndiscontinued on hospital day five (as per the Infectious\\nDisease Service).  He was taken off of vancomycin on\\n[**2101-10-28**], and his piperacillin/tazobactam was\\ndiscontinued on [**2101-10-29**].\\n\\nDespite the presumption of a gram-negative urosepsis\\nprecipitating this admission, the patient did not have any\\npositive blood or urine cultures aside from the growth of\\nyeast in two urine cultures noted above.  He remained\\nafebrile both before and after discontinuation of his\\nantibiotics, and he was found to be Clostridium difficile\\nnegative on [**2101-10-28**].\\n\\n3.  PULMONARY:  As noted above, the patient was intubated and\\nhe was extubated on [**2101-10-24**].  He subsequently\\ndeveloped wheezing and mild hypoxia; most likely secondary to\\ncardiac asthma and fluid overload in the setting of his\\naggressive fluid resuscitation.  He was gently diuresed\\ntoward the end of his hospitalization, and by the time of his\\nhe was maintaining an oxygen saturation of greater than 95%\\non 2 liters nasal cannula, intermittent ipratropium\\nnebulizers, and chest physical therapy for clearance of his\\nrespiratory secretions.\\n\\n4.  RENAL:  The patient presented with acute renal failure\\nand prerenal azotemia that rapidly resolved following fluid\\nresuscitation.  By the time of discharge, his serum\\ncreatinine was stable and at his preadmission baseline.\\n\\n5.  NUTRITION:  The patient was found to be profoundly\\nmalnourished with a serum albumin of 1.8 on admission.  Once\\nhe was extubated and taking orals, he performed poorly on a\\nmodified barium swallowing study and was started on a thin\\nliquid, ground-solid diet with whole medication tablets,\\nsmall bites and sips, upright posture with meals, and\\naspiration precautions.  He was also given ProMod shakes with\\nand between meals for nutritional supplementation of his\\nheart-healthy/diabetic diet.\\n\\n6.  VASCULAR:  The patient's operative incisions and foot\\nulcers continued to heal throughout this admission.  He was\\nstarted on an multivitamin, vitamin C, and zinc for improved\\nwound healing.\\n\\n7.  HEMATOLOGY:  The patient was transfused one unit of\\npacked red blood cells on [**2101-10-27**] to maintain a\\nhematocrit of greater than 30 given his history of severe\\ncoronary artery disease.  His hematocrit subsequently\\nremained stable.\\n\\nCONDITION AT DISCHARGE:  Condition on discharge was stable.\\n\\nDISCHARGE STATUS:  [**First Name4 (NamePattern1) 1188**] [**Last Name (NamePattern1) **] rehabilitation facility.\\n\\nDISCHARGE DIAGNOSES:\\n 1.  Cardiorespiratory arrest.\\n 2.  Non-Q-wave myocardial infarction.\\n 3.  Acute renal failure.\\n 4.  Coronary artery disease with diffuse 3-vessel disease;\\nright-dominant, status post proximal left circumflex stent in\\n[**2101-7-9**] with occlusion of distal left circumflex; status\\npost right coronary artery stent on [**2101-10-27**] (no\\npercutaneous coronary intervention to 99%, distal left\\ncircumflex, 80% small proximal left anterior descending\\nartery, 80% small distal left anterior descending artery).\\n 5.  Congestive heart failure (with an ejection fraction\\nof 15% to 20%).\\n 6.  Type 2 diabetes with neuropathy.\\n 7.  Hypertension.\\n 8.  Diverticulosis (found on colonoscopy in [**2101-7-9**]).\\n 9.  Alzheimer's dementia.\\n10.  History of gastrointestinal bleed (while the patient was\\ntaking eptifibatide).\\n11.  Cardiac risk factors (with a baseline creatinine\\nof 1.4 to 1.6).\\n12.  History of methicillin-resistant Staphylococcus aureus\\nand Pseudomonas growth in wound cultures.\\n13.  Severe peripheral vascular disease; status post left\\nfemoral-AT bypass graft on [**2101-10-11**].\\n14.  Chronic nonhealing foot ulcers.\\n\\nMEDICATIONS ON DISCHARGE:\\n 1.  Amiodarone 400 mg p.o. b.i.d. (through [**2101-11-2**]), then 400 mg p.o. q.d. (times one week), then 200 mg\\np.o. q.d.\\n 2.  Metoprolol 50 mg p.o. b.i.d.\\n 3.  Captopril 6.25 mg p.o. t.i.d.\\n 4.  Aspirin 325 mg p.o. q.d.\\n 5.  Pantoprazole 40 mg p.o. q.d.\\n 6.  Heparin 5000 units subcutaneously b.i.d.\\n 7.  Multivitamin one tablet p.o. q.d.\\n 8.  Zinc sulfate 220 mg p.o. q.d.\\n 9.  Vitamin C 500 mg p.o. q.d.\\n10.  Ipratropium nebulizers q.4-6h. as needed (for wheezing).\\n11.  Acetaminophen 325 mg to 650 mg p.o. q.4-6h. as needed\\n(for pain).\\n12.  Miconazole 2% powder to groin b.i.d.\\n13.  Santyl lotion to heels b.i.d.\\n14.  Regular insulin sliding-scale.\\n\\nCODE STATUS:  Do not resuscitate/do not intubate.\\n\\nNOTE:  If applicable, an addendum to this Discharge Summary\\nwill be dictated to include follow-up appointments as well as\\nany changes to the medication list noted above.\\n\\n\\n\\n\\n\\n\\n                          [**First Name11 (Name Pattern1) **] [**Last Name (NamePattern4) 1604**], M.D.  [**MD Number(1) 1605**]\\n\\nDictated By:[**Name8 (MD) 2507**]\\n\\nMEDQUIST36\\n\\nD:  [**2101-10-31**]  01:07\\nT:  [**2101-11-5**]  03:44\\nJOB#:  [**Job Number **]\\n\""
      ]
     },
     "execution_count": 26,
     "metadata": {},
     "output_type": "execute_result"
    }
   ],
   "source": [
    "merged_df['TEXT'][0]"
   ]
  },
  {
   "cell_type": "code",
   "execution_count": 27,
   "metadata": {
    "cell_style": "center",
    "scrolled": true
   },
   "outputs": [
    {
     "data": {
      "text/plain": [
       "'admission date       discharge date    date of birth        sex  m  service  medicine  chief complaint  admitted from rehabilitation for hypotension systolic blood pressure to the s and decreased urine output  history of present illness  the patient is a yearold male who had been hospitalized at the hospital  from  through  of  after undergoing a left femoralat bypass graft and was subsequently discharged to a rehabilitation facility  on  he presented again to the hospital  after being found to have a systolic blood pressure in the s and no urine output for  hours a foley catheter placed at the rehabilitation facility yielded  cc of murkybrown urine  there may also have been purulent discharge at the penile meatus at this time  on presentation to the emergency department the patient was without subjective complaints  in the emergency department he was found to have systolic blood pressure of   he was given  liters of intravenous fluids and transiently started on dopamine for a systolic blood pressure in the s  past medical history    coronary artery disease with diffuse vessel disease rightdominant status post proximal left circumflex stent in  with occlusion of the distal left circumflex status post right coronary artery stent on  no percutaneous coronary intervention to  diagonal left circumflex  small proximal left anterior descending artery or  small distal left anterior descending artery    congestive heart failure with an ejection fraction of  to     type  diabetes with neuropathy    hypertension    diverticulosis found on colonoscopy in     alzheimers dementia    history of gastrointestinal bleed while the patient was taking eptifibatide    cardiac risk factors with a baseline creatinine of  to     hypercholesterolemia   history of methicillinresistant staphylococcus aureus and pseudomonas growth in wound cultures   severe peripheral vascular disease status post left femoralat bypass graft on    chronic nonhealing foot ulcers   recent right pedal cellulitis  allergies  the patient has no known drug allergies  medications on admission    vancomycin  g intravenously qh for a level of less than  started on     levofloxacin  mg po qd started on     metronidazole  mg po qh started on     heparin  units subcutaneous bid    simvastatin  mg po qd    lisinopril  mg po qd    furosemide  mg po qd    vitamin e  iu po qd    atenolol  mg po qd   pantoprazole  mg po qd   ascorbic acid  mg po bid   nph  units bid   regular insulin slidingscale   bisacodyl  mg popr as needed   docusate  mg po bid   percocet  mg one tablet po qh as needed for pain   aspirin  mg po qd   metoprolol  mg po bid  social history  the patient is retired and had been living at home with his wife prior to his admission to the hospital on  he had been living at hospital  for the day prior to admission  he is a social drinker and has a packyear smoking history although he quit smoking  years ago  physical examination on presentation   initial physical examination revealed temperature was  degrees fahrenheit heart rate was  blood pressure was  following administration of  liters of normal saline respiratory was  and his oxygen saturation was  on  liters nasal cannula  his heart had a regular rate and rhythm  there were normal first and second heart sounds  there was a  systolic ejection murmur and there were no rubs or gallops his lungs were clear to auscultation bilaterally  his abdomen was soft nontender and nondistended and there were hypoactive bowel sounds  he had a palpable bypass graft pulse hospital  dorsalis pedis and posterior tibialis pulses bilaterally and his surgical incision was clean dry and intact  please note that the above examination was done by the vascular surgery team which was the team that was initially planning to admit the patient to the hospital  pertinent laboratory data on presentation  on initial laboratory evaluation the patient had a white blood cell count of  hematocrit was  and platelets were   his pt was  ptt was  and inr was   his serum chemistries revealed sodium was  potassium was  chloride was  bicarbonate was  blood urea nitrogen was  creatinine was  and blood glucose was   his calcium was  magnesium was  and phosphate was   blood cultures drawn on admission were pending but ultimately negative  a urine culture taken on admission was initially pending but ultimately grew out yeast  a sputum culture taken on admission was also initially pending but ultimately also grew out yeast  radiologyimaging  his admission chest xray demonstrated stable prominence of the right main pulmonary artery no focal areas of consolidation overall stable appearance of the chest compared with a  study  no radiographic evidence of congestive heart failure or pneumonia  his admission electrocardiogram demonstrated a sinus rhythm nonspecific inferiorlateral t wave changes low qrs voltages in the limb leads and t wave changes in v and v when compared with an electrocardiogram dated   an initial abdominal ct was a limited noncontrast examination that demonstrated diffuse vascular calcifications  no evidence of an abdominal aortic aneurysm or free fluid incompletely imaged coronary artery calcification a simple left renal cyst sigmoid diverticulosis and an enlarged and partially calcified prostate gland  hospital course by system    cardiovascular  the patient was initially admitted to the vascular intensive care unit with hypotension decreased urine output and acute renal failure most likely secondary to a presumed gramnegative urosepsis although there were never any positive culture data to confirm this diagnosis  while boarding in the medical intensive care unit on the night of admission the patient had a sudden cardiorespiratory arrest  he was resuscitated with epinephrine lidocaine and direct current cardioversion times four  he was also intubate for airway protection  following these measures the patient returned to a sinus rhythm with a systolic blood pressure of approximately  the total time elapsed from the beginning of the arrest to the return of a pulse was approximately  minutes  he subsequently required double pressors to maintain his blood pressure  an echocardiogram performed at the bedside demonstrated a trivial pericardial effusion and a left ventricular ejection fraction of  to  in the setting of tachycardia and a hyperdynamic right ventricle suggesting elevated rightsided filling pressures  although the definitive etiology of this arrest remained unknown the most likely trigger was a nonqwave myocardial infarction as his troponin values were elevated to greater than  following his arrest  a repeat echocardiogram done on  demonstrated mild left atrial dilation an ejection fraction of  to  resting regional wall motion abnormalities including inferior mid and apical left ventricular akinesis depressed right ventricular systolic function and moderate mitral regurgitation  compared with the prior study of  the left ventricular function was unchanged  there was moderate mitral regurgitation and the right ventricular function appeared worse  on  the patient was loaded with amiodarone and was subsequently started on oral amiodarone  the following day he was started on heparin intravenously given his elevated serum troponin to greater than  this medication was continued for  hours  given his elevated troponins and nonqwave myocardial infarction the patient was a candidate for cardiac catheterization  after discussions between the medical intensive care unit team and the patients family however the decision was made to not pursue further invasive procedures given that the patient had been made do not resuscitatedo not intubate following the resuscitation mentioned above and his family no longer wished for aggressive resuscitating measures  by  he was off pressors and he was restarted on a beta blocker and ace inhibitor at low doses  on the evening of  the patient complained of substernal chest pain that was relieved by npg sl and morphine  he also had st segment depressions in v and v that reverted to baseline after the resolution of his pain therefore the patient was again started on heparin although this was discontinued on  when the patient ruled out for a myocardial infarction by cardiac enzymes  he again had substernal chest pain on  although he had no electrocardiogram changes and he again ruled out for a myocardial infarction by cardiac enzymes  by hospital day four the patient began to develop evidence of congestive heart failure given his aggressive fluid resuscitation and gentle diuresis with furosemide was begun by the time of his transfer to the general medicine service on  the patient was still significantly volume overloaded following his aggressive fluid resuscitation in the medical intensive care unit  therefore he was continued on the program of gentle diuresis given that he was having signs and symptoms of rightsided congestive heart failure  he achieved adequate diuresis by the time of his discharge to rehabilitation as his oxygen saturation was greater than  on  liters nasal cannula    infectious diseasesepsis  the patient was started on gentamicin and piperacillintazobactam in addition to the levofloxacin metronidazole and vancomycin he was already taking for right lower extremity cellulitis prior to admission for empiric coverage of a presumed gramnegative urosepsis and he was aggressively hydrated with intravenous fluids  on  his levofloxacin and metronidazole was discontinued and he was started on fluconazole given the growth of yeast on urine culture  he was taken off of gentamicin on hospital day three and his fluconazole was discontinued on hospital day five as per the infectious disease service  he was taken off of vancomycin on  and his piperacillintazobactam was discontinued on   despite the presumption of a gramnegative urosepsis precipitating this admission the patient did not have any positive blood or urine cultures aside from the growth of yeast in two urine cultures noted above  he remained afebrile both before and after discontinuation of his antibiotics and he was found to be clostridium difficile negative on     pulmonary  as noted above the patient was intubated and he was extubated on   he subsequently developed wheezing and mild hypoxia most likely secondary to cardiac asthma and fluid overload in the setting of his aggressive fluid resuscitation  he was gently diuresed toward the end of his hospitalization and by the time of his he was maintaining an oxygen saturation of greater than  on  liters nasal cannula intermittent ipratropium nebulizers and chest physical therapy for clearance of his respiratory secretions    renal  the patient presented with acute renal failure and prerenal azotemia that rapidly resolved following fluid resuscitation  by the time of discharge his serum creatinine was stable and at his preadmission baseline    nutrition  the patient was found to be profoundly malnourished with a serum albumin of  on admission  once he was extubated and taking orals he performed poorly on a modified barium swallowing study and was started on a thin liquid groundsolid diet with whole medication tablets small bites and sips upright posture with meals and aspiration precautions  he was also given promod shakes with and between meals for nutritional supplementation of his hearthealthydiabetic diet    vascular  the patients operative incisions and foot ulcers continued to heal throughout this admission  he was started on an multivitamin vitamin c and zinc for improved wound healing    hematology  the patient was transfused one unit of packed red blood cells on  to maintain a hematocrit of greater than  given his history of severe coronary artery disease  his hematocrit subsequently remained stable  condition at discharge  condition on discharge was stable  discharge status  first name namepattern  last name namepattern  rehabilitation facility  discharge diagnoses    cardiorespiratory arrest    nonqwave myocardial infarction    acute renal failure    coronary artery disease with diffuse vessel disease rightdominant status post proximal left circumflex stent in  with occlusion of distal left circumflex status post right coronary artery stent on  no percutaneous coronary intervention to  distal left circumflex  small proximal left anterior descending artery  small distal left anterior descending artery    congestive heart failure with an ejection fraction of  to     type  diabetes with neuropathy    hypertension    diverticulosis found on colonoscopy in     alzheimers dementia   history of gastrointestinal bleed while the patient was taking eptifibatide   cardiac risk factors with a baseline creatinine of  to    history of methicillinresistant staphylococcus aureus and pseudomonas growth in wound cultures   severe peripheral vascular disease status post left femoralat bypass graft on    chronic nonhealing foot ulcers  medications on discharge    amiodarone  mg po bid through  then  mg po qd times one week then  mg po qd    metoprolol  mg po bid    captopril  mg po tid    aspirin  mg po qd    pantoprazole  mg po qd    heparin  units subcutaneously bid    multivitamin one tablet po qd    zinc sulfate  mg po qd    vitamin c  mg po qd   ipratropium nebulizers qh as needed for wheezing   acetaminophen  mg to  mg po qh as needed for pain   miconazole  powder to groin bid   santyl lotion to heels bid   regular insulin slidingscale  code status  do not resuscitatedo not intubate  note  if applicable an addendum to this discharge summary will be dictated to include followup appointments as well as any changes to the medication list noted above                                 first name name pattern  last name namepattern  md  md number   dictated byname md   medquist  d     t     job  job number  '"
      ]
     },
     "execution_count": 27,
     "metadata": {},
     "output_type": "execute_result"
    }
   ],
   "source": [
    "merged_df['TEXT_CLEAN'][0]"
   ]
  },
  {
   "cell_type": "markdown",
   "metadata": {},
   "source": [
    "## Label the observations"
   ]
  },
  {
   "cell_type": "code",
   "execution_count": 28,
   "metadata": {},
   "outputs": [],
   "source": [
    "merged_df['Label'] = [1 if entry <30 else 0 for entry in merged_df['DAYS_NEXT_ADMIT']]"
   ]
  },
  {
   "cell_type": "code",
   "execution_count": 29,
   "metadata": {},
   "outputs": [
    {
     "name": "stdout",
     "output_type": "stream",
     "text": [
      "['ROW_ID_x', 'SUBJECT_ID', 'HADM_ID', 'ADMITTIME', 'DISCHTIME', 'ADMISSION_TYPE', 'NEXT_ADMITTIME', 'NEXT_ADMISSION_TYPE', 'DAYS_NEXT_ADMIT', 'CATEGORY', 'CGID', 'CHARTDATE', 'CHARTTIME', 'DESCRIPTION', 'ISERROR', 'ROW_ID_y', 'STORETIME', 'TEXT', 'TEXT_CLEAN', 'Label']\n"
     ]
    }
   ],
   "source": [
    "print(merged_df.columns.tolist())"
   ]
  },
  {
   "cell_type": "code",
   "execution_count": 30,
   "metadata": {},
   "outputs": [],
   "source": [
    "merged_df.drop(['ROW_ID_x',\n",
    "                'SUBJECT_ID',\n",
    "                'HADM_ID',\n",
    "                'ADMITTIME',\n",
    "                'DISCHTIME',\n",
    "                'ADMISSION_TYPE',\n",
    "                'NEXT_ADMITTIME',\n",
    "                'NEXT_ADMISSION_TYPE',\n",
    "                'DAYS_NEXT_ADMIT',\n",
    "                'CATEGORY',\n",
    "                'CGID',\n",
    "                'CHARTDATE',\n",
    "                'CHARTTIME',\n",
    "                'DESCRIPTION',\n",
    "                'ISERROR',\n",
    "                'ROW_ID_y',\n",
    "                'STORETIME',\n",
    "                'TEXT'],axis=1, inplace=True)"
   ]
  },
  {
   "cell_type": "code",
   "execution_count": 31,
   "metadata": {},
   "outputs": [],
   "source": [
    "import feather\n",
    "feather.write_dataframe(merged_df,'cleaned.feather')"
   ]
  },
  {
   "cell_type": "code",
   "execution_count": 32,
   "metadata": {},
   "outputs": [],
   "source": [
    "merged_df = feather.read_dataframe('cleaned.feather')"
   ]
  },
  {
   "cell_type": "code",
   "execution_count": 33,
   "metadata": {},
   "outputs": [
    {
     "data": {
      "text/html": [
       "<div>\n",
       "<style scoped>\n",
       "    .dataframe tbody tr th:only-of-type {\n",
       "        vertical-align: middle;\n",
       "    }\n",
       "\n",
       "    .dataframe tbody tr th {\n",
       "        vertical-align: top;\n",
       "    }\n",
       "\n",
       "    .dataframe thead th {\n",
       "        text-align: right;\n",
       "    }\n",
       "</style>\n",
       "<table border=\"1\" class=\"dataframe\">\n",
       "  <thead>\n",
       "    <tr style=\"text-align: right;\">\n",
       "      <th></th>\n",
       "      <th>TEXT_CLEAN</th>\n",
       "      <th>Label</th>\n",
       "    </tr>\n",
       "  </thead>\n",
       "  <tbody>\n",
       "    <tr>\n",
       "      <th>0</th>\n",
       "      <td>admission date       discharge date    date of...</td>\n",
       "      <td>0</td>\n",
       "    </tr>\n",
       "    <tr>\n",
       "      <th>1</th>\n",
       "      <td>admission date       discharge date    date of...</td>\n",
       "      <td>0</td>\n",
       "    </tr>\n",
       "    <tr>\n",
       "      <th>2</th>\n",
       "      <td>admission date                discharge date  ...</td>\n",
       "      <td>0</td>\n",
       "    </tr>\n",
       "    <tr>\n",
       "      <th>3</th>\n",
       "      <td>name  known lastname  known firstname  c      ...</td>\n",
       "      <td>0</td>\n",
       "    </tr>\n",
       "    <tr>\n",
       "      <th>4</th>\n",
       "      <td>admission date                discharge date  ...</td>\n",
       "      <td>0</td>\n",
       "    </tr>\n",
       "  </tbody>\n",
       "</table>\n",
       "</div>"
      ],
      "text/plain": [
       "                                          TEXT_CLEAN  Label\n",
       "0  admission date       discharge date    date of...      0\n",
       "1  admission date       discharge date    date of...      0\n",
       "2  admission date                discharge date  ...      0\n",
       "3  name  known lastname  known firstname  c      ...      0\n",
       "4  admission date                discharge date  ...      0"
      ]
     },
     "execution_count": 33,
     "metadata": {},
     "output_type": "execute_result"
    }
   ],
   "source": [
    "merged_df.head()"
   ]
  },
  {
   "cell_type": "markdown",
   "metadata": {},
   "source": [
    "## Compute Prevalance"
   ]
  },
  {
   "cell_type": "code",
   "execution_count": 34,
   "metadata": {},
   "outputs": [
    {
     "name": "stdout",
     "output_type": "stream",
     "text": [
      "The percent of observations belonging to class 0 are 93.93444408145486\n",
      "The percent of observations belonging to class 1 are 6.0655559185451375\n"
     ]
    }
   ],
   "source": [
    "print('The percent of observations belonging to class 0 are {}'.format(\n",
    "    100 * len(merged_df[merged_df['Label'] == 0])/merged_df.shape[0]))\n",
    "print('The percent of observations belonging to class 1 are {}'.format(\n",
    "    100 * len(merged_df[merged_df['Label'] == 1])/merged_df.shape[0]))"
   ]
  },
  {
   "cell_type": "code",
   "execution_count": 35,
   "metadata": {},
   "outputs": [],
   "source": [
    "## Under Sample the data"
   ]
  },
  {
   "cell_type": "code",
   "execution_count": 36,
   "metadata": {
    "scrolled": true
   },
   "outputs": [],
   "source": [
    "# Class 1\n",
    "class_1_subset = merged_df[merged_df['Label']==1]"
   ]
  },
  {
   "cell_type": "code",
   "execution_count": 37,
   "metadata": {
    "scrolled": true
   },
   "outputs": [],
   "source": [
    "# Class 0\n",
    "class_0 = merged_df[merged_df['Label'] == 0]\n",
    "class_0_subset = class_0.sample(len(class_1_subset))"
   ]
  },
  {
   "cell_type": "code",
   "execution_count": 38,
   "metadata": {},
   "outputs": [
    {
     "data": {
      "text/plain": [
       "((2228, 2), (2228, 2))"
      ]
     },
     "execution_count": 38,
     "metadata": {},
     "output_type": "execute_result"
    }
   ],
   "source": [
    "class_0_subset.shape, class_1_subset.shape"
   ]
  },
  {
   "cell_type": "code",
   "execution_count": 39,
   "metadata": {},
   "outputs": [],
   "source": [
    "# Concatenate the dataframes\n",
    "small_df = pd.concat([class_0_subset, class_1_subset], ignore_index=True)\n",
    "#small_df\n",
    "assert small_df.shape[0] == class_0_subset.shape[0] + class_1_subset.shape[0]"
   ]
  },
  {
   "cell_type": "code",
   "execution_count": 40,
   "metadata": {},
   "outputs": [
    {
     "data": {
      "text/plain": [
       "Index(['TEXT_CLEAN', 'Label'], dtype='object')"
      ]
     },
     "execution_count": 40,
     "metadata": {},
     "output_type": "execute_result"
    }
   ],
   "source": [
    "small_df.columns"
   ]
  },
  {
   "cell_type": "code",
   "execution_count": 41,
   "metadata": {},
   "outputs": [],
   "source": [
    "import pickle\n",
    "small_df.to_pickle('small_df.pickle')"
   ]
  },
  {
   "cell_type": "markdown",
   "metadata": {},
   "source": [
    "# Acknowledgements\n",
    "I was inspired by the wonderful work of Andrew Long, Data Scientist at Fresenius Medical Care North America. He wrote two excellent blogs in Towards Data Science on this project."
   ]
  },
  {
   "cell_type": "code",
   "execution_count": null,
   "metadata": {},
   "outputs": [],
   "source": []
  }
 ],
 "metadata": {
  "kernelspec": {
   "display_name": "Python 3",
   "language": "python",
   "name": "python3"
  },
  "language_info": {
   "codemirror_mode": {
    "name": "ipython",
    "version": 3
   },
   "file_extension": ".py",
   "mimetype": "text/x-python",
   "name": "python",
   "nbconvert_exporter": "python",
   "pygments_lexer": "ipython3",
   "version": "3.6.4"
  },
  "toc": {
   "base_numbering": 1,
   "nav_menu": {},
   "number_sections": true,
   "sideBar": true,
   "skip_h1_title": false,
   "title_cell": "Table of Contents",
   "title_sidebar": "Contents",
   "toc_cell": false,
   "toc_position": {},
   "toc_section_display": true,
   "toc_window_display": false
  }
 },
 "nbformat": 4,
 "nbformat_minor": 2
}
